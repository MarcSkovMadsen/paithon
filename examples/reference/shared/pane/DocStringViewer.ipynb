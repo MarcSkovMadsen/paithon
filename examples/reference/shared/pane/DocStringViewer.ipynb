{
 "cells": [
  {
   "cell_type": "markdown",
   "id": "0a6c7a3e-0f8f-4e03-b614-a468b6aa028e",
   "metadata": {},
   "source": [
    "## DocStringViewer\n",
    "\n",
    "![DocStringViewer](../../../../examples/assets/videos/DocStringViewer.gif)"
   ]
  },
  {
   "cell_type": "code",
   "execution_count": null,
   "id": "5cfdc22b-8324-4d2d-9648-e83135664282",
   "metadata": {},
   "outputs": [],
   "source": [
    "import panel as pn\n",
    "\n",
    "from paithon.shared.pane import DocStringViewer\n",
    "from paithon.shared.template import fastlisttemplate\n",
    "\n",
    "pn.extension()"
   ]
  },
  {
   "cell_type": "markdown",
   "id": "6aa16abd-6cd8-4794-ac12-b10586e8fa7b",
   "metadata": {},
   "source": [
    "Let us create a `Parameterized` instance"
   ]
  },
  {
   "cell_type": "code",
   "execution_count": null,
   "id": "5c1e2675-e85a-4571-a7a6-a20c3c3c105b",
   "metadata": {},
   "outputs": [],
   "source": [
    "parameterized = DocStringViewer()"
   ]
  },
  {
   "cell_type": "markdown",
   "id": "d2d3639d-96ed-4bef-907d-49fd0a1cccba",
   "metadata": {},
   "source": [
    ".. and view its *doc string*."
   ]
  },
  {
   "cell_type": "code",
   "execution_count": null,
   "id": "17788a63-354c-491c-b1a1-ffbae64b15b9",
   "metadata": {},
   "outputs": [],
   "source": [
    "doc_viewer= DocStringViewer(object=parameterized, sizing_mode=\"stretch_width\", scroll=False, height=525)\n",
    "doc_viewer"
   ]
  },
  {
   "cell_type": "markdown",
   "id": "1dd81cb3-2a14-45db-8974-4132719464a7",
   "metadata": {},
   "source": [
    "Finally we can add a widget to select the `palette`."
   ]
  },
  {
   "cell_type": "code",
   "execution_count": null,
   "id": "20f2567e-7353-4933-bf51-de35daff2075",
   "metadata": {},
   "outputs": [],
   "source": [
    "controls = pn.Column(\n",
    "    pn.pane.Markdown(\"**Palette**\", margin=0),\n",
    "    pn.widgets.RadioBoxGroup.from_param(doc_viewer.param.palette, inline=True),\n",
    ")\n",
    "controls"
   ]
  },
  {
   "cell_type": "markdown",
   "id": "fcb1778d-e81c-4ecc-af2c-85ffbaec9932",
   "metadata": {},
   "source": [
    "## Share it as an app"
   ]
  },
  {
   "cell_type": "code",
   "execution_count": null,
   "id": "9c1826ea-da44-4f26-8e7f-17bb9a501e63",
   "metadata": {},
   "outputs": [],
   "source": [
    "if pn.state.location:\n",
    "    pn.state.location.sync(doc_viewer, {\"palette\": \"palette\"})\n",
    "    \n",
    "fastlisttemplate(\n",
    "    title=\"DocStringViewer\",\n",
    "    sidebar=[controls],\n",
    "    main=[doc_viewer],\n",
    ").servable();"
   ]
  },
  {
   "cell_type": "markdown",
   "id": "e7105eab-a061-4d22-a8e0-08d7704e8b77",
   "metadata": {},
   "source": [
    "You can *serve* the app via `panel serve examples/shared/pane/DocStringViewer.ipynb`. \n",
    "\n",
    "The app will be served at http://localhost:5006/DocStringViewer."
   ]
  }
 ],
 "metadata": {
  "kernelspec": {
   "display_name": "Python 3 (ipykernel)",
   "language": "python",
   "name": "python3"
  },
  "language_info": {
   "codemirror_mode": {
    "name": "ipython",
    "version": 3
   },
   "file_extension": ".py",
   "mimetype": "text/x-python",
   "name": "python",
   "nbconvert_exporter": "python",
   "pygments_lexer": "ipython3",
   "version": "3.8.4"
  }
 },
 "nbformat": 4,
 "nbformat_minor": 5
}
