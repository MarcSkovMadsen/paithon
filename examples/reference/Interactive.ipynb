{
 "cells": [
  {
   "cell_type": "markdown",
   "id": "baa0f489-da9b-4ff6-b408-2c787dcf77dd",
   "metadata": {},
   "source": [
    "## 🧠 Paithon Interactive\n",
    "\n",
    "With `paithon.interactive` you can **make your model interactive** in no time. \n",
    "\n",
    "If you are already familiar with Panel you will notice it combines and extends Panels [interact](https://panel.holoviz.org/user_guide/Interact.html?highlight=interactive#interact), [bind](https://panel.holoviz.org/getting_started/Introduction.html?highlight=bind#composing-new-panels), `panel` etc."
   ]
  },
  {
   "cell_type": "code",
   "execution_count": 1,
   "id": "7fce577f-1f78-48fc-96ba-9387b18a8fa0",
   "metadata": {},
   "outputs": [
    {
     "data": {
      "application/javascript": [
       "\n",
       "(function(root) {\n",
       "  function now() {\n",
       "    return new Date();\n",
       "  }\n",
       "\n",
       "  var force = true;\n",
       "\n",
       "  if (typeof root._bokeh_onload_callbacks === \"undefined\" || force === true) {\n",
       "    root._bokeh_onload_callbacks = [];\n",
       "    root._bokeh_is_loading = undefined;\n",
       "  }\n",
       "\n",
       "  if (typeof (root._bokeh_timeout) === \"undefined\" || force === true) {\n",
       "    root._bokeh_timeout = Date.now() + 5000;\n",
       "    root._bokeh_failed_load = false;\n",
       "  }\n",
       "\n",
       "  function run_callbacks() {\n",
       "    try {\n",
       "      root._bokeh_onload_callbacks.forEach(function(callback) {\n",
       "        if (callback != null)\n",
       "          callback();\n",
       "      });\n",
       "    } finally {\n",
       "      delete root._bokeh_onload_callbacks\n",
       "    }\n",
       "    console.debug(\"Bokeh: all callbacks have finished\");\n",
       "  }\n",
       "\n",
       "  function load_libs(css_urls, js_urls, js_modules, callback) {\n",
       "    if (css_urls == null) css_urls = [];\n",
       "    if (js_urls == null) js_urls = [];\n",
       "    if (js_modules == null) js_modules = [];\n",
       "\n",
       "    root._bokeh_onload_callbacks.push(callback);\n",
       "    if (root._bokeh_is_loading > 0) {\n",
       "      console.debug(\"Bokeh: BokehJS is being loaded, scheduling callback at\", now());\n",
       "      return null;\n",
       "    }\n",
       "    if (js_urls.length === 0 && js_modules.length === 0) {\n",
       "      run_callbacks();\n",
       "      return null;\n",
       "    }\n",
       "    console.debug(\"Bokeh: BokehJS not loaded, scheduling load and callback at\", now());\n",
       "    root._bokeh_is_loading = css_urls.length + js_urls.length + js_modules.length;\n",
       "\n",
       "    function on_load() {\n",
       "      root._bokeh_is_loading--;\n",
       "      if (root._bokeh_is_loading === 0) {\n",
       "        console.debug(\"Bokeh: all BokehJS libraries/stylesheets loaded\");\n",
       "        run_callbacks()\n",
       "      }\n",
       "    }\n",
       "\n",
       "    function on_error() {\n",
       "      console.error(\"failed to load \" + url);\n",
       "    }\n",
       "\n",
       "    for (var i = 0; i < css_urls.length; i++) {\n",
       "      var url = css_urls[i];\n",
       "      const element = document.createElement(\"link\");\n",
       "      element.onload = on_load;\n",
       "      element.onerror = on_error;\n",
       "      element.rel = \"stylesheet\";\n",
       "      element.type = \"text/css\";\n",
       "      element.href = url;\n",
       "      console.debug(\"Bokeh: injecting link tag for BokehJS stylesheet: \", url);\n",
       "      document.body.appendChild(element);\n",
       "    }\n",
       "\n",
       "    var skip = [];\n",
       "    if (window.requirejs) {\n",
       "      window.requirejs.config({'packages': {}, 'paths': {}, 'shim': {}});\n",
       "      \n",
       "    }\n",
       "    for (var i = 0; i < js_urls.length; i++) {\n",
       "      var url = js_urls[i];\n",
       "      if (skip.indexOf(url) >= 0) { on_load(); continue; }\n",
       "      var element = document.createElement('script');\n",
       "      element.onload = on_load;\n",
       "      element.onerror = on_error;\n",
       "      element.async = false;\n",
       "      element.src = url;\n",
       "      console.debug(\"Bokeh: injecting script tag for BokehJS library: \", url);\n",
       "      document.head.appendChild(element);\n",
       "    }\n",
       "    for (var i = 0; i < js_modules.length; i++) {\n",
       "      var url = js_modules[i];\n",
       "      if (skip.indexOf(url) >= 0) { on_load(); continue; }\n",
       "      var element = document.createElement('script');\n",
       "      element.onload = on_load;\n",
       "      element.onerror = on_error;\n",
       "      element.async = false;\n",
       "      element.src = url;\n",
       "      element.type = \"module\";\n",
       "      console.debug(\"Bokeh: injecting script tag for BokehJS library: \", url);\n",
       "      document.head.appendChild(element);\n",
       "    }\n",
       "    if (!js_urls.length && !js_modules.length) {\n",
       "      on_load()\n",
       "    }\n",
       "  };\n",
       "\n",
       "  function inject_raw_css(css) {\n",
       "    const element = document.createElement(\"style\");\n",
       "    element.appendChild(document.createTextNode(css));\n",
       "    document.body.appendChild(element);\n",
       "  }\n",
       "\n",
       "  var js_urls = [\"https://cdn.bokeh.org/bokeh/release/bokeh-2.4.1.min.js\", \"https://cdn.bokeh.org/bokeh/release/bokeh-gl-2.4.1.min.js\", \"https://cdn.bokeh.org/bokeh/release/bokeh-widgets-2.4.1.min.js\", \"https://cdn.bokeh.org/bokeh/release/bokeh-tables-2.4.1.min.js\", \"https://cdn.bokeh.org/bokeh/release/bokeh-mathjax-2.4.1.min.js\", \"https://cdn.jsdelivr.net/npm/dom-to-image-improved@2.8.0/src/dom-to-image-improved.min.js\", \"https://unpkg.com/@holoviz/panel@0.12.5/dist/panel.min.js\"];\n",
       "  var js_modules = [];\n",
       "  var css_urls = [\"https://unpkg.com/@holoviz/panel@0.12.5/dist/css/alerts.css\", \"https://unpkg.com/@holoviz/panel@0.12.5/dist/css/card.css\", \"https://unpkg.com/@holoviz/panel@0.12.5/dist/css/dataframe.css\", \"https://unpkg.com/@holoviz/panel@0.12.5/dist/css/json.css\", \"https://unpkg.com/@holoviz/panel@0.12.5/dist/css/loading.css\", \"https://unpkg.com/@holoviz/panel@0.12.5/dist/css/markdown.css\", \"https://unpkg.com/@holoviz/panel@0.12.5/dist/css/widgets.css\"];\n",
       "  var inline_js = [\n",
       "    function(Bokeh) {\n",
       "      inject_raw_css(\"\\n    .bk.pn-loading.arcs:before {\\n      background-image: url(\\\"data:image/svg+xml;base64,PHN2ZyB4bWxucz0iaHR0cDovL3d3dy53My5vcmcvMjAwMC9zdmciIHhtbG5zOnhsaW5rPSJodHRwOi8vd3d3LnczLm9yZy8xOTk5L3hsaW5rIiBzdHlsZT0ibWFyZ2luOiBhdXRvOyBiYWNrZ3JvdW5kOiBub25lOyBkaXNwbGF5OiBibG9jazsgc2hhcGUtcmVuZGVyaW5nOiBhdXRvOyIgdmlld0JveD0iMCAwIDEwMCAxMDAiIHByZXNlcnZlQXNwZWN0UmF0aW89InhNaWRZTWlkIj4gIDxjaXJjbGUgY3g9IjUwIiBjeT0iNTAiIHI9IjMyIiBzdHJva2Utd2lkdGg9IjgiIHN0cm9rZT0iI2MzYzNjMyIgc3Ryb2tlLWRhc2hhcnJheT0iNTAuMjY1NDgyNDU3NDM2NjkgNTAuMjY1NDgyNDU3NDM2NjkiIGZpbGw9Im5vbmUiIHN0cm9rZS1saW5lY2FwPSJyb3VuZCI+ICAgIDxhbmltYXRlVHJhbnNmb3JtIGF0dHJpYnV0ZU5hbWU9InRyYW5zZm9ybSIgdHlwZT0icm90YXRlIiByZXBlYXRDb3VudD0iaW5kZWZpbml0ZSIgZHVyPSIxcyIga2V5VGltZXM9IjA7MSIgdmFsdWVzPSIwIDUwIDUwOzM2MCA1MCA1MCI+PC9hbmltYXRlVHJhbnNmb3JtPiAgPC9jaXJjbGU+PC9zdmc+\\\");\\n      max-height: 400px;\\n    }\\n    \");\n",
       "    },\n",
       "    function(Bokeh) {\n",
       "      Bokeh.set_log_level(\"info\");\n",
       "    },\n",
       "    function(Bokeh) {} // ensure no trailing comma for IE\n",
       "  ];\n",
       "\n",
       "  function run_inline_js() {\n",
       "    if ((root.Bokeh !== undefined) || (force === true)) {\n",
       "      for (var i = 0; i < inline_js.length; i++) {\n",
       "        inline_js[i].call(root, root.Bokeh);\n",
       "      }} else if (Date.now() < root._bokeh_timeout) {\n",
       "      setTimeout(run_inline_js, 100);\n",
       "    } else if (!root._bokeh_failed_load) {\n",
       "      console.log(\"Bokeh: BokehJS failed to load within specified timeout.\");\n",
       "      root._bokeh_failed_load = true;\n",
       "    }\n",
       "  }\n",
       "\n",
       "  if (root._bokeh_is_loading === 0) {\n",
       "    console.debug(\"Bokeh: BokehJS loaded, going straight to plotting\");\n",
       "    run_inline_js();\n",
       "  } else {\n",
       "    load_libs(css_urls, js_urls, js_modules, function() {\n",
       "      console.debug(\"Bokeh: BokehJS plotting callback run at\", now());\n",
       "      run_inline_js();\n",
       "    });\n",
       "  }\n",
       "}(window));"
      ],
      "application/vnd.holoviews_load.v0+json": "\n(function(root) {\n  function now() {\n    return new Date();\n  }\n\n  var force = true;\n\n  if (typeof root._bokeh_onload_callbacks === \"undefined\" || force === true) {\n    root._bokeh_onload_callbacks = [];\n    root._bokeh_is_loading = undefined;\n  }\n\n  if (typeof (root._bokeh_timeout) === \"undefined\" || force === true) {\n    root._bokeh_timeout = Date.now() + 5000;\n    root._bokeh_failed_load = false;\n  }\n\n  function run_callbacks() {\n    try {\n      root._bokeh_onload_callbacks.forEach(function(callback) {\n        if (callback != null)\n          callback();\n      });\n    } finally {\n      delete root._bokeh_onload_callbacks\n    }\n    console.debug(\"Bokeh: all callbacks have finished\");\n  }\n\n  function load_libs(css_urls, js_urls, js_modules, callback) {\n    if (css_urls == null) css_urls = [];\n    if (js_urls == null) js_urls = [];\n    if (js_modules == null) js_modules = [];\n\n    root._bokeh_onload_callbacks.push(callback);\n    if (root._bokeh_is_loading > 0) {\n      console.debug(\"Bokeh: BokehJS is being loaded, scheduling callback at\", now());\n      return null;\n    }\n    if (js_urls.length === 0 && js_modules.length === 0) {\n      run_callbacks();\n      return null;\n    }\n    console.debug(\"Bokeh: BokehJS not loaded, scheduling load and callback at\", now());\n    root._bokeh_is_loading = css_urls.length + js_urls.length + js_modules.length;\n\n    function on_load() {\n      root._bokeh_is_loading--;\n      if (root._bokeh_is_loading === 0) {\n        console.debug(\"Bokeh: all BokehJS libraries/stylesheets loaded\");\n        run_callbacks()\n      }\n    }\n\n    function on_error() {\n      console.error(\"failed to load \" + url);\n    }\n\n    for (var i = 0; i < css_urls.length; i++) {\n      var url = css_urls[i];\n      const element = document.createElement(\"link\");\n      element.onload = on_load;\n      element.onerror = on_error;\n      element.rel = \"stylesheet\";\n      element.type = \"text/css\";\n      element.href = url;\n      console.debug(\"Bokeh: injecting link tag for BokehJS stylesheet: \", url);\n      document.body.appendChild(element);\n    }\n\n    var skip = [];\n    if (window.requirejs) {\n      window.requirejs.config({'packages': {}, 'paths': {}, 'shim': {}});\n      \n    }\n    for (var i = 0; i < js_urls.length; i++) {\n      var url = js_urls[i];\n      if (skip.indexOf(url) >= 0) { on_load(); continue; }\n      var element = document.createElement('script');\n      element.onload = on_load;\n      element.onerror = on_error;\n      element.async = false;\n      element.src = url;\n      console.debug(\"Bokeh: injecting script tag for BokehJS library: \", url);\n      document.head.appendChild(element);\n    }\n    for (var i = 0; i < js_modules.length; i++) {\n      var url = js_modules[i];\n      if (skip.indexOf(url) >= 0) { on_load(); continue; }\n      var element = document.createElement('script');\n      element.onload = on_load;\n      element.onerror = on_error;\n      element.async = false;\n      element.src = url;\n      element.type = \"module\";\n      console.debug(\"Bokeh: injecting script tag for BokehJS library: \", url);\n      document.head.appendChild(element);\n    }\n    if (!js_urls.length && !js_modules.length) {\n      on_load()\n    }\n  };\n\n  function inject_raw_css(css) {\n    const element = document.createElement(\"style\");\n    element.appendChild(document.createTextNode(css));\n    document.body.appendChild(element);\n  }\n\n  var js_urls = [\"https://cdn.bokeh.org/bokeh/release/bokeh-2.4.1.min.js\", \"https://cdn.bokeh.org/bokeh/release/bokeh-gl-2.4.1.min.js\", \"https://cdn.bokeh.org/bokeh/release/bokeh-widgets-2.4.1.min.js\", \"https://cdn.bokeh.org/bokeh/release/bokeh-tables-2.4.1.min.js\", \"https://cdn.bokeh.org/bokeh/release/bokeh-mathjax-2.4.1.min.js\", \"https://cdn.jsdelivr.net/npm/dom-to-image-improved@2.8.0/src/dom-to-image-improved.min.js\", \"https://unpkg.com/@holoviz/panel@0.12.5/dist/panel.min.js\"];\n  var js_modules = [];\n  var css_urls = [\"https://unpkg.com/@holoviz/panel@0.12.5/dist/css/alerts.css\", \"https://unpkg.com/@holoviz/panel@0.12.5/dist/css/card.css\", \"https://unpkg.com/@holoviz/panel@0.12.5/dist/css/dataframe.css\", \"https://unpkg.com/@holoviz/panel@0.12.5/dist/css/json.css\", \"https://unpkg.com/@holoviz/panel@0.12.5/dist/css/loading.css\", \"https://unpkg.com/@holoviz/panel@0.12.5/dist/css/markdown.css\", \"https://unpkg.com/@holoviz/panel@0.12.5/dist/css/widgets.css\"];\n  var inline_js = [\n    function(Bokeh) {\n      inject_raw_css(\"\\n    .bk.pn-loading.arcs:before {\\n      background-image: url(\\\"data:image/svg+xml;base64,PHN2ZyB4bWxucz0iaHR0cDovL3d3dy53My5vcmcvMjAwMC9zdmciIHhtbG5zOnhsaW5rPSJodHRwOi8vd3d3LnczLm9yZy8xOTk5L3hsaW5rIiBzdHlsZT0ibWFyZ2luOiBhdXRvOyBiYWNrZ3JvdW5kOiBub25lOyBkaXNwbGF5OiBibG9jazsgc2hhcGUtcmVuZGVyaW5nOiBhdXRvOyIgdmlld0JveD0iMCAwIDEwMCAxMDAiIHByZXNlcnZlQXNwZWN0UmF0aW89InhNaWRZTWlkIj4gIDxjaXJjbGUgY3g9IjUwIiBjeT0iNTAiIHI9IjMyIiBzdHJva2Utd2lkdGg9IjgiIHN0cm9rZT0iI2MzYzNjMyIgc3Ryb2tlLWRhc2hhcnJheT0iNTAuMjY1NDgyNDU3NDM2NjkgNTAuMjY1NDgyNDU3NDM2NjkiIGZpbGw9Im5vbmUiIHN0cm9rZS1saW5lY2FwPSJyb3VuZCI+ICAgIDxhbmltYXRlVHJhbnNmb3JtIGF0dHJpYnV0ZU5hbWU9InRyYW5zZm9ybSIgdHlwZT0icm90YXRlIiByZXBlYXRDb3VudD0iaW5kZWZpbml0ZSIgZHVyPSIxcyIga2V5VGltZXM9IjA7MSIgdmFsdWVzPSIwIDUwIDUwOzM2MCA1MCA1MCI+PC9hbmltYXRlVHJhbnNmb3JtPiAgPC9jaXJjbGU+PC9zdmc+\\\");\\n      max-height: 400px;\\n    }\\n    \");\n    },\n    function(Bokeh) {\n      Bokeh.set_log_level(\"info\");\n    },\n    function(Bokeh) {} // ensure no trailing comma for IE\n  ];\n\n  function run_inline_js() {\n    if ((root.Bokeh !== undefined) || (force === true)) {\n      for (var i = 0; i < inline_js.length; i++) {\n        inline_js[i].call(root, root.Bokeh);\n      }} else if (Date.now() < root._bokeh_timeout) {\n      setTimeout(run_inline_js, 100);\n    } else if (!root._bokeh_failed_load) {\n      console.log(\"Bokeh: BokehJS failed to load within specified timeout.\");\n      root._bokeh_failed_load = true;\n    }\n  }\n\n  if (root._bokeh_is_loading === 0) {\n    console.debug(\"Bokeh: BokehJS loaded, going straight to plotting\");\n    run_inline_js();\n  } else {\n    load_libs(css_urls, js_urls, js_modules, function() {\n      console.debug(\"Bokeh: BokehJS plotting callback run at\", now());\n      run_inline_js();\n    });\n  }\n}(window));"
     },
     "metadata": {},
     "output_type": "display_data"
    },
    {
     "data": {
      "application/javascript": [
       "\n",
       "if ((window.PyViz === undefined) || (window.PyViz instanceof HTMLElement)) {\n",
       "  window.PyViz = {comms: {}, comm_status:{}, kernels:{}, receivers: {}, plot_index: []}\n",
       "}\n",
       "\n",
       "\n",
       "    function JupyterCommManager() {\n",
       "    }\n",
       "\n",
       "    JupyterCommManager.prototype.register_target = function(plot_id, comm_id, msg_handler) {\n",
       "      if (window.comm_manager || ((window.Jupyter !== undefined) && (Jupyter.notebook.kernel != null))) {\n",
       "        var comm_manager = window.comm_manager || Jupyter.notebook.kernel.comm_manager;\n",
       "        comm_manager.register_target(comm_id, function(comm) {\n",
       "          comm.on_msg(msg_handler);\n",
       "        });\n",
       "      } else if ((plot_id in window.PyViz.kernels) && (window.PyViz.kernels[plot_id])) {\n",
       "        window.PyViz.kernels[plot_id].registerCommTarget(comm_id, function(comm) {\n",
       "          comm.onMsg = msg_handler;\n",
       "        });\n",
       "      } else if (typeof google != 'undefined' && google.colab.kernel != null) {\n",
       "        google.colab.kernel.comms.registerTarget(comm_id, (comm) => {\n",
       "          var messages = comm.messages[Symbol.asyncIterator]();\n",
       "          function processIteratorResult(result) {\n",
       "            var message = result.value;\n",
       "            console.log(message)\n",
       "            var content = {data: message.data, comm_id};\n",
       "            var buffers = []\n",
       "            for (var buffer of message.buffers || []) {\n",
       "              buffers.push(new DataView(buffer))\n",
       "            }\n",
       "            var metadata = message.metadata || {};\n",
       "            var msg = {content, buffers, metadata}\n",
       "            msg_handler(msg);\n",
       "            return messages.next().then(processIteratorResult);\n",
       "          }\n",
       "          return messages.next().then(processIteratorResult);\n",
       "        })\n",
       "      }\n",
       "    }\n",
       "\n",
       "    JupyterCommManager.prototype.get_client_comm = function(plot_id, comm_id, msg_handler) {\n",
       "      if (comm_id in window.PyViz.comms) {\n",
       "        return window.PyViz.comms[comm_id];\n",
       "      } else if (window.comm_manager || ((window.Jupyter !== undefined) && (Jupyter.notebook.kernel != null))) {\n",
       "        var comm_manager = window.comm_manager || Jupyter.notebook.kernel.comm_manager;\n",
       "        var comm = comm_manager.new_comm(comm_id, {}, {}, {}, comm_id);\n",
       "        if (msg_handler) {\n",
       "          comm.on_msg(msg_handler);\n",
       "        }\n",
       "      } else if ((plot_id in window.PyViz.kernels) && (window.PyViz.kernels[plot_id])) {\n",
       "        var comm = window.PyViz.kernels[plot_id].connectToComm(comm_id);\n",
       "        comm.open();\n",
       "        if (msg_handler) {\n",
       "          comm.onMsg = msg_handler;\n",
       "        }\n",
       "      } else if (typeof google != 'undefined' && google.colab.kernel != null) {\n",
       "        var comm_promise = google.colab.kernel.comms.open(comm_id)\n",
       "        comm_promise.then((comm) => {\n",
       "          window.PyViz.comms[comm_id] = comm;\n",
       "          if (msg_handler) {\n",
       "            var messages = comm.messages[Symbol.asyncIterator]();\n",
       "            function processIteratorResult(result) {\n",
       "              var message = result.value;\n",
       "              var content = {data: message.data};\n",
       "              var metadata = message.metadata || {comm_id};\n",
       "              var msg = {content, metadata}\n",
       "              msg_handler(msg);\n",
       "              return messages.next().then(processIteratorResult);\n",
       "            }\n",
       "            return messages.next().then(processIteratorResult);\n",
       "          }\n",
       "        }) \n",
       "        var sendClosure = (data, metadata, buffers, disposeOnDone) => {\n",
       "          return comm_promise.then((comm) => {\n",
       "            comm.send(data, metadata, buffers, disposeOnDone);\n",
       "          });\n",
       "        };\n",
       "        var comm = {\n",
       "          send: sendClosure\n",
       "        };\n",
       "      }\n",
       "      window.PyViz.comms[comm_id] = comm;\n",
       "      return comm;\n",
       "    }\n",
       "    window.PyViz.comm_manager = new JupyterCommManager();\n",
       "    \n",
       "\n",
       "\n",
       "var JS_MIME_TYPE = 'application/javascript';\n",
       "var HTML_MIME_TYPE = 'text/html';\n",
       "var EXEC_MIME_TYPE = 'application/vnd.holoviews_exec.v0+json';\n",
       "var CLASS_NAME = 'output';\n",
       "\n",
       "/**\n",
       " * Render data to the DOM node\n",
       " */\n",
       "function render(props, node) {\n",
       "  var div = document.createElement(\"div\");\n",
       "  var script = document.createElement(\"script\");\n",
       "  node.appendChild(div);\n",
       "  node.appendChild(script);\n",
       "}\n",
       "\n",
       "/**\n",
       " * Handle when a new output is added\n",
       " */\n",
       "function handle_add_output(event, handle) {\n",
       "  var output_area = handle.output_area;\n",
       "  var output = handle.output;\n",
       "  if ((output.data == undefined) || (!output.data.hasOwnProperty(EXEC_MIME_TYPE))) {\n",
       "    return\n",
       "  }\n",
       "  var id = output.metadata[EXEC_MIME_TYPE][\"id\"];\n",
       "  var toinsert = output_area.element.find(\".\" + CLASS_NAME.split(' ')[0]);\n",
       "  if (id !== undefined) {\n",
       "    var nchildren = toinsert.length;\n",
       "    var html_node = toinsert[nchildren-1].children[0];\n",
       "    html_node.innerHTML = output.data[HTML_MIME_TYPE];\n",
       "    var scripts = [];\n",
       "    var nodelist = html_node.querySelectorAll(\"script\");\n",
       "    for (var i in nodelist) {\n",
       "      if (nodelist.hasOwnProperty(i)) {\n",
       "        scripts.push(nodelist[i])\n",
       "      }\n",
       "    }\n",
       "\n",
       "    scripts.forEach( function (oldScript) {\n",
       "      var newScript = document.createElement(\"script\");\n",
       "      var attrs = [];\n",
       "      var nodemap = oldScript.attributes;\n",
       "      for (var j in nodemap) {\n",
       "        if (nodemap.hasOwnProperty(j)) {\n",
       "          attrs.push(nodemap[j])\n",
       "        }\n",
       "      }\n",
       "      attrs.forEach(function(attr) { newScript.setAttribute(attr.name, attr.value) });\n",
       "      newScript.appendChild(document.createTextNode(oldScript.innerHTML));\n",
       "      oldScript.parentNode.replaceChild(newScript, oldScript);\n",
       "    });\n",
       "    if (JS_MIME_TYPE in output.data) {\n",
       "      toinsert[nchildren-1].children[1].textContent = output.data[JS_MIME_TYPE];\n",
       "    }\n",
       "    output_area._hv_plot_id = id;\n",
       "    if ((window.Bokeh !== undefined) && (id in Bokeh.index)) {\n",
       "      window.PyViz.plot_index[id] = Bokeh.index[id];\n",
       "    } else {\n",
       "      window.PyViz.plot_index[id] = null;\n",
       "    }\n",
       "  } else if (output.metadata[EXEC_MIME_TYPE][\"server_id\"] !== undefined) {\n",
       "    var bk_div = document.createElement(\"div\");\n",
       "    bk_div.innerHTML = output.data[HTML_MIME_TYPE];\n",
       "    var script_attrs = bk_div.children[0].attributes;\n",
       "    for (var i = 0; i < script_attrs.length; i++) {\n",
       "      toinsert[toinsert.length - 1].childNodes[1].setAttribute(script_attrs[i].name, script_attrs[i].value);\n",
       "    }\n",
       "    // store reference to server id on output_area\n",
       "    output_area._bokeh_server_id = output.metadata[EXEC_MIME_TYPE][\"server_id\"];\n",
       "  }\n",
       "}\n",
       "\n",
       "/**\n",
       " * Handle when an output is cleared or removed\n",
       " */\n",
       "function handle_clear_output(event, handle) {\n",
       "  var id = handle.cell.output_area._hv_plot_id;\n",
       "  var server_id = handle.cell.output_area._bokeh_server_id;\n",
       "  if (((id === undefined) || !(id in PyViz.plot_index)) && (server_id !== undefined)) { return; }\n",
       "  var comm = window.PyViz.comm_manager.get_client_comm(\"hv-extension-comm\", \"hv-extension-comm\", function () {});\n",
       "  if (server_id !== null) {\n",
       "    comm.send({event_type: 'server_delete', 'id': server_id});\n",
       "    return;\n",
       "  } else if (comm !== null) {\n",
       "    comm.send({event_type: 'delete', 'id': id});\n",
       "  }\n",
       "  delete PyViz.plot_index[id];\n",
       "  if ((window.Bokeh !== undefined) & (id in window.Bokeh.index)) {\n",
       "    var doc = window.Bokeh.index[id].model.document\n",
       "    doc.clear();\n",
       "    const i = window.Bokeh.documents.indexOf(doc);\n",
       "    if (i > -1) {\n",
       "      window.Bokeh.documents.splice(i, 1);\n",
       "    }\n",
       "  }\n",
       "}\n",
       "\n",
       "/**\n",
       " * Handle kernel restart event\n",
       " */\n",
       "function handle_kernel_cleanup(event, handle) {\n",
       "  delete PyViz.comms[\"hv-extension-comm\"];\n",
       "  window.PyViz.plot_index = {}\n",
       "}\n",
       "\n",
       "/**\n",
       " * Handle update_display_data messages\n",
       " */\n",
       "function handle_update_output(event, handle) {\n",
       "  handle_clear_output(event, {cell: {output_area: handle.output_area}})\n",
       "  handle_add_output(event, handle)\n",
       "}\n",
       "\n",
       "function register_renderer(events, OutputArea) {\n",
       "  function append_mime(data, metadata, element) {\n",
       "    // create a DOM node to render to\n",
       "    var toinsert = this.create_output_subarea(\n",
       "    metadata,\n",
       "    CLASS_NAME,\n",
       "    EXEC_MIME_TYPE\n",
       "    );\n",
       "    this.keyboard_manager.register_events(toinsert);\n",
       "    // Render to node\n",
       "    var props = {data: data, metadata: metadata[EXEC_MIME_TYPE]};\n",
       "    render(props, toinsert[0]);\n",
       "    element.append(toinsert);\n",
       "    return toinsert\n",
       "  }\n",
       "\n",
       "  events.on('output_added.OutputArea', handle_add_output);\n",
       "  events.on('output_updated.OutputArea', handle_update_output);\n",
       "  events.on('clear_output.CodeCell', handle_clear_output);\n",
       "  events.on('delete.Cell', handle_clear_output);\n",
       "  events.on('kernel_ready.Kernel', handle_kernel_cleanup);\n",
       "\n",
       "  OutputArea.prototype.register_mime_type(EXEC_MIME_TYPE, append_mime, {\n",
       "    safe: true,\n",
       "    index: 0\n",
       "  });\n",
       "}\n",
       "\n",
       "if (window.Jupyter !== undefined) {\n",
       "  try {\n",
       "    var events = require('base/js/events');\n",
       "    var OutputArea = require('notebook/js/outputarea').OutputArea;\n",
       "    if (OutputArea.prototype.mime_types().indexOf(EXEC_MIME_TYPE) == -1) {\n",
       "      register_renderer(events, OutputArea);\n",
       "    }\n",
       "  } catch(err) {\n",
       "  }\n",
       "}\n"
      ],
      "application/vnd.holoviews_load.v0+json": "\nif ((window.PyViz === undefined) || (window.PyViz instanceof HTMLElement)) {\n  window.PyViz = {comms: {}, comm_status:{}, kernels:{}, receivers: {}, plot_index: []}\n}\n\n\n    function JupyterCommManager() {\n    }\n\n    JupyterCommManager.prototype.register_target = function(plot_id, comm_id, msg_handler) {\n      if (window.comm_manager || ((window.Jupyter !== undefined) && (Jupyter.notebook.kernel != null))) {\n        var comm_manager = window.comm_manager || Jupyter.notebook.kernel.comm_manager;\n        comm_manager.register_target(comm_id, function(comm) {\n          comm.on_msg(msg_handler);\n        });\n      } else if ((plot_id in window.PyViz.kernels) && (window.PyViz.kernels[plot_id])) {\n        window.PyViz.kernels[plot_id].registerCommTarget(comm_id, function(comm) {\n          comm.onMsg = msg_handler;\n        });\n      } else if (typeof google != 'undefined' && google.colab.kernel != null) {\n        google.colab.kernel.comms.registerTarget(comm_id, (comm) => {\n          var messages = comm.messages[Symbol.asyncIterator]();\n          function processIteratorResult(result) {\n            var message = result.value;\n            console.log(message)\n            var content = {data: message.data, comm_id};\n            var buffers = []\n            for (var buffer of message.buffers || []) {\n              buffers.push(new DataView(buffer))\n            }\n            var metadata = message.metadata || {};\n            var msg = {content, buffers, metadata}\n            msg_handler(msg);\n            return messages.next().then(processIteratorResult);\n          }\n          return messages.next().then(processIteratorResult);\n        })\n      }\n    }\n\n    JupyterCommManager.prototype.get_client_comm = function(plot_id, comm_id, msg_handler) {\n      if (comm_id in window.PyViz.comms) {\n        return window.PyViz.comms[comm_id];\n      } else if (window.comm_manager || ((window.Jupyter !== undefined) && (Jupyter.notebook.kernel != null))) {\n        var comm_manager = window.comm_manager || Jupyter.notebook.kernel.comm_manager;\n        var comm = comm_manager.new_comm(comm_id, {}, {}, {}, comm_id);\n        if (msg_handler) {\n          comm.on_msg(msg_handler);\n        }\n      } else if ((plot_id in window.PyViz.kernels) && (window.PyViz.kernels[plot_id])) {\n        var comm = window.PyViz.kernels[plot_id].connectToComm(comm_id);\n        comm.open();\n        if (msg_handler) {\n          comm.onMsg = msg_handler;\n        }\n      } else if (typeof google != 'undefined' && google.colab.kernel != null) {\n        var comm_promise = google.colab.kernel.comms.open(comm_id)\n        comm_promise.then((comm) => {\n          window.PyViz.comms[comm_id] = comm;\n          if (msg_handler) {\n            var messages = comm.messages[Symbol.asyncIterator]();\n            function processIteratorResult(result) {\n              var message = result.value;\n              var content = {data: message.data};\n              var metadata = message.metadata || {comm_id};\n              var msg = {content, metadata}\n              msg_handler(msg);\n              return messages.next().then(processIteratorResult);\n            }\n            return messages.next().then(processIteratorResult);\n          }\n        }) \n        var sendClosure = (data, metadata, buffers, disposeOnDone) => {\n          return comm_promise.then((comm) => {\n            comm.send(data, metadata, buffers, disposeOnDone);\n          });\n        };\n        var comm = {\n          send: sendClosure\n        };\n      }\n      window.PyViz.comms[comm_id] = comm;\n      return comm;\n    }\n    window.PyViz.comm_manager = new JupyterCommManager();\n    \n\n\nvar JS_MIME_TYPE = 'application/javascript';\nvar HTML_MIME_TYPE = 'text/html';\nvar EXEC_MIME_TYPE = 'application/vnd.holoviews_exec.v0+json';\nvar CLASS_NAME = 'output';\n\n/**\n * Render data to the DOM node\n */\nfunction render(props, node) {\n  var div = document.createElement(\"div\");\n  var script = document.createElement(\"script\");\n  node.appendChild(div);\n  node.appendChild(script);\n}\n\n/**\n * Handle when a new output is added\n */\nfunction handle_add_output(event, handle) {\n  var output_area = handle.output_area;\n  var output = handle.output;\n  if ((output.data == undefined) || (!output.data.hasOwnProperty(EXEC_MIME_TYPE))) {\n    return\n  }\n  var id = output.metadata[EXEC_MIME_TYPE][\"id\"];\n  var toinsert = output_area.element.find(\".\" + CLASS_NAME.split(' ')[0]);\n  if (id !== undefined) {\n    var nchildren = toinsert.length;\n    var html_node = toinsert[nchildren-1].children[0];\n    html_node.innerHTML = output.data[HTML_MIME_TYPE];\n    var scripts = [];\n    var nodelist = html_node.querySelectorAll(\"script\");\n    for (var i in nodelist) {\n      if (nodelist.hasOwnProperty(i)) {\n        scripts.push(nodelist[i])\n      }\n    }\n\n    scripts.forEach( function (oldScript) {\n      var newScript = document.createElement(\"script\");\n      var attrs = [];\n      var nodemap = oldScript.attributes;\n      for (var j in nodemap) {\n        if (nodemap.hasOwnProperty(j)) {\n          attrs.push(nodemap[j])\n        }\n      }\n      attrs.forEach(function(attr) { newScript.setAttribute(attr.name, attr.value) });\n      newScript.appendChild(document.createTextNode(oldScript.innerHTML));\n      oldScript.parentNode.replaceChild(newScript, oldScript);\n    });\n    if (JS_MIME_TYPE in output.data) {\n      toinsert[nchildren-1].children[1].textContent = output.data[JS_MIME_TYPE];\n    }\n    output_area._hv_plot_id = id;\n    if ((window.Bokeh !== undefined) && (id in Bokeh.index)) {\n      window.PyViz.plot_index[id] = Bokeh.index[id];\n    } else {\n      window.PyViz.plot_index[id] = null;\n    }\n  } else if (output.metadata[EXEC_MIME_TYPE][\"server_id\"] !== undefined) {\n    var bk_div = document.createElement(\"div\");\n    bk_div.innerHTML = output.data[HTML_MIME_TYPE];\n    var script_attrs = bk_div.children[0].attributes;\n    for (var i = 0; i < script_attrs.length; i++) {\n      toinsert[toinsert.length - 1].childNodes[1].setAttribute(script_attrs[i].name, script_attrs[i].value);\n    }\n    // store reference to server id on output_area\n    output_area._bokeh_server_id = output.metadata[EXEC_MIME_TYPE][\"server_id\"];\n  }\n}\n\n/**\n * Handle when an output is cleared or removed\n */\nfunction handle_clear_output(event, handle) {\n  var id = handle.cell.output_area._hv_plot_id;\n  var server_id = handle.cell.output_area._bokeh_server_id;\n  if (((id === undefined) || !(id in PyViz.plot_index)) && (server_id !== undefined)) { return; }\n  var comm = window.PyViz.comm_manager.get_client_comm(\"hv-extension-comm\", \"hv-extension-comm\", function () {});\n  if (server_id !== null) {\n    comm.send({event_type: 'server_delete', 'id': server_id});\n    return;\n  } else if (comm !== null) {\n    comm.send({event_type: 'delete', 'id': id});\n  }\n  delete PyViz.plot_index[id];\n  if ((window.Bokeh !== undefined) & (id in window.Bokeh.index)) {\n    var doc = window.Bokeh.index[id].model.document\n    doc.clear();\n    const i = window.Bokeh.documents.indexOf(doc);\n    if (i > -1) {\n      window.Bokeh.documents.splice(i, 1);\n    }\n  }\n}\n\n/**\n * Handle kernel restart event\n */\nfunction handle_kernel_cleanup(event, handle) {\n  delete PyViz.comms[\"hv-extension-comm\"];\n  window.PyViz.plot_index = {}\n}\n\n/**\n * Handle update_display_data messages\n */\nfunction handle_update_output(event, handle) {\n  handle_clear_output(event, {cell: {output_area: handle.output_area}})\n  handle_add_output(event, handle)\n}\n\nfunction register_renderer(events, OutputArea) {\n  function append_mime(data, metadata, element) {\n    // create a DOM node to render to\n    var toinsert = this.create_output_subarea(\n    metadata,\n    CLASS_NAME,\n    EXEC_MIME_TYPE\n    );\n    this.keyboard_manager.register_events(toinsert);\n    // Render to node\n    var props = {data: data, metadata: metadata[EXEC_MIME_TYPE]};\n    render(props, toinsert[0]);\n    element.append(toinsert);\n    return toinsert\n  }\n\n  events.on('output_added.OutputArea', handle_add_output);\n  events.on('output_updated.OutputArea', handle_update_output);\n  events.on('clear_output.CodeCell', handle_clear_output);\n  events.on('delete.Cell', handle_clear_output);\n  events.on('kernel_ready.Kernel', handle_kernel_cleanup);\n\n  OutputArea.prototype.register_mime_type(EXEC_MIME_TYPE, append_mime, {\n    safe: true,\n    index: 0\n  });\n}\n\nif (window.Jupyter !== undefined) {\n  try {\n    var events = require('base/js/events');\n    var OutputArea = require('notebook/js/outputarea').OutputArea;\n    if (OutputArea.prototype.mime_types().indexOf(EXEC_MIME_TYPE) == -1) {\n      register_renderer(events, OutputArea);\n    }\n  } catch(err) {\n  }\n}\n"
     },
     "metadata": {},
     "output_type": "display_data"
    }
   ],
   "source": [
    "import time\n",
    "\n",
    "import param\n",
    "import panel as pn\n",
    "from paithon import interactive\n",
    "\n",
    "pn.extension(sizing_mode=\"stretch_width\")"
   ]
  },
  {
   "cell_type": "markdown",
   "id": "816ff360-8b8a-48a9-9ecf-3e3747ba05e2",
   "metadata": {},
   "source": [
    "## Single Input and Output\n",
    "\n",
    "Lets start by defining a very simple model that takes a single value as input and returns a `waw` file."
   ]
  },
  {
   "cell_type": "code",
   "execution_count": 2,
   "id": "d598a617-fafb-4bac-a3a3-fb86b686c879",
   "metadata": {},
   "outputs": [],
   "source": [
    "def audio_model(value):\n",
    "    return f\"https://evolution.voxeo.com/library/audio/prompts/numbers/{value}.wav\""
   ]
  },
  {
   "cell_type": "markdown",
   "id": "c5d63e09-4db1-4ee7-b0b8-74b52eaccfeb",
   "metadata": {},
   "source": [
    "You just need to provide **specific `inputs`** to your model and the outputs will magically be determined."
   ]
  },
  {
   "cell_type": "code",
   "execution_count": 3,
   "id": "0d2a13df-a7b2-44d0-810e-10b5897fdc46",
   "metadata": {},
   "outputs": [
    {
     "data": {},
     "metadata": {},
     "output_type": "display_data"
    },
    {
     "data": {
      "application/vnd.holoviews_exec.v0+json": "",
      "text/html": [
       "<div id='1002'>\n",
       "\n",
       "\n",
       "\n",
       "\n",
       "\n",
       "  <div class=\"bk-root\" id=\"291dec3c-ebd8-47a7-b6fd-bb36c6a8f8df\" data-root-id=\"1002\"></div>\n",
       "</div>\n",
       "<script type=\"application/javascript\">(function(root) {\n",
       "  function embed_document(root) {\n",
       "    var docs_json = {\"68e0a300-97a9-4437-b29d-91f909bc5ce2\":{\"defs\":[{\"extends\":null,\"module\":null,\"name\":\"ReactiveHTML1\",\"overrides\":[],\"properties\":[]},{\"extends\":null,\"module\":null,\"name\":\"FlexBox1\",\"overrides\":[],\"properties\":[{\"default\":\"flex-start\",\"kind\":null,\"name\":\"align_content\"},{\"default\":\"flex-start\",\"kind\":null,\"name\":\"align_items\"},{\"default\":\"row\",\"kind\":null,\"name\":\"flex_direction\"},{\"default\":\"wrap\",\"kind\":null,\"name\":\"flex_wrap\"},{\"default\":\"flex-start\",\"kind\":null,\"name\":\"justify_content\"}]},{\"extends\":null,\"module\":null,\"name\":\"TemplateActions1\",\"overrides\":[],\"properties\":[{\"default\":0,\"kind\":null,\"name\":\"open_modal\"},{\"default\":0,\"kind\":null,\"name\":\"close_modal\"}]},{\"extends\":null,\"module\":null,\"name\":\"MaterialTemplateActions1\",\"overrides\":[],\"properties\":[{\"default\":0,\"kind\":null,\"name\":\"open_modal\"},{\"default\":0,\"kind\":null,\"name\":\"close_modal\"}]},{\"extends\":null,\"module\":null,\"name\":\"name1\",\"overrides\":[],\"properties\":[{\"default\":\"body\",\"kind\":null,\"name\":\"selection\"},{\"default\":\"selection\",\"kind\":null,\"name\":\"target\"},{\"default\":false,\"kind\":null,\"name\":\"take\"},{\"default\":\"png\",\"kind\":null,\"name\":\"format\"},{\"default\":1.0,\"kind\":null,\"name\":\"scale\"},{\"default\":1.0,\"kind\":null,\"name\":\"quality\"},{\"default\":\"white\",\"kind\":null,\"name\":\"bgcolor\"},{\"default\":[\"download\"],\"kind\":null,\"name\":\"actions\"},{\"default\":\"download.png\",\"kind\":null,\"name\":\"download_file_name\"},{\"default\":\"\",\"kind\":null,\"name\":\"uri\"},{\"default\":\"_blank\",\"kind\":null,\"name\":\"open_target\"},{\"default\":0,\"kind\":null,\"name\":\"takes\"}]}],\"roots\":{\"references\":[{\"attributes\":{\"children\":[{\"id\":\"1003\"},{\"id\":\"1004\"}],\"margin\":[0,0,0,0],\"name\":\"Basic\",\"sizing_mode\":\"stretch_width\"},\"id\":\"1002\",\"type\":\"Row\"},{\"attributes\":{\"client_comm_id\":\"fbad1acbe7144fd9bb0896495b99eada\",\"comm_id\":\"063d88d8f862402eabf86f3d9d2a37cd\",\"plot_id\":\"1002\"},\"id\":\"1006\",\"type\":\"panel.models.comm_manager.CommManager\"},{\"attributes\":{\"reload\":false},\"id\":\"1007\",\"type\":\"panel.models.location.Location\"},{\"attributes\":{\"margin\":[5,10,5,10],\"options\":[\"0\",\"1\",\"2\",\"3\",\"4\"],\"sizing_mode\":\"stretch_width\",\"value\":\"0\"},\"id\":\"1003\",\"type\":\"Select\"},{\"attributes\":{\"children\":[{\"id\":\"1005\"}],\"margin\":[0,0,0,0],\"name\":\"Row00107\",\"sizing_mode\":\"stretch_width\"},\"id\":\"1004\",\"type\":\"Row\"},{\"attributes\":{\"margin\":[5,5,5,5],\"paused\":true,\"sizing_mode\":\"stretch_width\",\"value\":\"https://evolution.voxeo.com/library/audio/prompts/numbers/0.wav\"},\"id\":\"1005\",\"type\":\"panel.models.widgets.Audio\"}],\"root_ids\":[\"1002\",\"1006\",\"1007\"]},\"title\":\"Bokeh Application\",\"version\":\"2.4.1\"}};\n",
       "    var render_items = [{\"docid\":\"68e0a300-97a9-4437-b29d-91f909bc5ce2\",\"root_ids\":[\"1002\"],\"roots\":{\"1002\":\"291dec3c-ebd8-47a7-b6fd-bb36c6a8f8df\"}}];\n",
       "    root.Bokeh.embed.embed_items_notebook(docs_json, render_items);\n",
       "  }\n",
       "  if (root.Bokeh !== undefined && root.Bokeh.Panel !== undefined) {\n",
       "    embed_document(root);\n",
       "  } else {\n",
       "    var attempts = 0;\n",
       "    var timer = setInterval(function(root) {\n",
       "      if (root.Bokeh !== undefined && root.Bokeh.Panel !== undefined) {\n",
       "        clearInterval(timer);\n",
       "        embed_document(root);\n",
       "      } else if (document.readyState == \"complete\") {\n",
       "        attempts++;\n",
       "        if (attempts > 200) {\n",
       "          clearInterval(timer);\n",
       "          console.log(\"Bokeh: ERROR: Unable to run BokehJS code because BokehJS library is missing\");\n",
       "        }\n",
       "      }\n",
       "    }, 25, root)\n",
       "  }\n",
       "})(window);</script>"
      ],
      "text/plain": [
       "Row(name='Basic', sizing_mode='stretch_width')\n",
       "    [0] Select(options=[0, 1, 2, 3, 4], sizing_mode='stretch_width', value=0)\n",
       "    [1] ParamMethod(method, sizing_mode='stretch_width')"
      ]
     },
     "execution_count": 3,
     "metadata": {
      "application/vnd.holoviews_exec.v0+json": {
       "id": "1002"
      }
     },
     "output_type": "execute_result"
    }
   ],
   "source": [
    "audio_layout = interactive(audio_model, inputs=pn.widgets.Select(value=0, options=[0, 1, 2, 3, 4]), name=\"Basic\")\n",
    "audio_layout"
   ]
  },
  {
   "cell_type": "markdown",
   "id": "5c9c5e72-a911-4c38-a2a1-31a88d1bad7b",
   "metadata": {},
   "source": [
    "Lets take another example"
   ]
  },
  {
   "cell_type": "code",
   "execution_count": 4,
   "id": "5ac0cee7-d9c9-4c97-bc6f-b26662591030",
   "metadata": {},
   "outputs": [],
   "source": [
    "def video_model(value):\n",
    "    return f'<img id=\"slideshow\" style=\"height:300px;width:100%\" src=\"https://picsum.photos/800/300?image={value}\"/>'"
   ]
  },
  {
   "cell_type": "code",
   "execution_count": 5,
   "id": "790e9d14-203d-49fc-b47e-b714935f8ffb",
   "metadata": {},
   "outputs": [
    {
     "data": {},
     "metadata": {},
     "output_type": "display_data"
    },
    {
     "data": {
      "application/vnd.holoviews_exec.v0+json": "",
      "text/html": [
       "<div id='1008'>\n",
       "\n",
       "\n",
       "\n",
       "\n",
       "\n",
       "  <div class=\"bk-root\" id=\"a72aa656-9c76-4283-a24b-e982e20d6e3c\" data-root-id=\"1008\"></div>\n",
       "</div>\n",
       "<script type=\"application/javascript\">(function(root) {\n",
       "  function embed_document(root) {\n",
       "    var docs_json = {\"1fa8a010-7afe-4b1b-bf8b-2c3d0ca3e531\":{\"defs\":[{\"extends\":null,\"module\":null,\"name\":\"ReactiveHTML1\",\"overrides\":[],\"properties\":[]},{\"extends\":null,\"module\":null,\"name\":\"FlexBox1\",\"overrides\":[],\"properties\":[{\"default\":\"flex-start\",\"kind\":null,\"name\":\"align_content\"},{\"default\":\"flex-start\",\"kind\":null,\"name\":\"align_items\"},{\"default\":\"row\",\"kind\":null,\"name\":\"flex_direction\"},{\"default\":\"wrap\",\"kind\":null,\"name\":\"flex_wrap\"},{\"default\":\"flex-start\",\"kind\":null,\"name\":\"justify_content\"}]},{\"extends\":null,\"module\":null,\"name\":\"TemplateActions1\",\"overrides\":[],\"properties\":[{\"default\":0,\"kind\":null,\"name\":\"open_modal\"},{\"default\":0,\"kind\":null,\"name\":\"close_modal\"}]},{\"extends\":null,\"module\":null,\"name\":\"MaterialTemplateActions1\",\"overrides\":[],\"properties\":[{\"default\":0,\"kind\":null,\"name\":\"open_modal\"},{\"default\":0,\"kind\":null,\"name\":\"close_modal\"}]},{\"extends\":null,\"module\":null,\"name\":\"name1\",\"overrides\":[],\"properties\":[{\"default\":\"body\",\"kind\":null,\"name\":\"selection\"},{\"default\":\"selection\",\"kind\":null,\"name\":\"target\"},{\"default\":false,\"kind\":null,\"name\":\"take\"},{\"default\":\"png\",\"kind\":null,\"name\":\"format\"},{\"default\":1.0,\"kind\":null,\"name\":\"scale\"},{\"default\":1.0,\"kind\":null,\"name\":\"quality\"},{\"default\":\"white\",\"kind\":null,\"name\":\"bgcolor\"},{\"default\":[\"download\"],\"kind\":null,\"name\":\"actions\"},{\"default\":\"download.png\",\"kind\":null,\"name\":\"download_file_name\"},{\"default\":\"\",\"kind\":null,\"name\":\"uri\"},{\"default\":\"_blank\",\"kind\":null,\"name\":\"open_target\"},{\"default\":0,\"kind\":null,\"name\":\"takes\"}]}],\"roots\":{\"references\":[{\"attributes\":{\"client_comm_id\":\"bfdeb75e0b504838af53d8b209fbf2c6\",\"comm_id\":\"a007ea8c554e42ffbcfa5a75b6d0a6d0\",\"plot_id\":\"1008\"},\"id\":\"1012\",\"type\":\"panel.models.comm_manager.CommManager\"},{\"attributes\":{\"children\":[{\"id\":\"1009\"},{\"id\":\"1010\"}],\"margin\":[0,0,0,0],\"name\":\"Basic\",\"sizing_mode\":\"stretch_width\"},\"id\":\"1008\",\"type\":\"Row\"},{\"attributes\":{\"css_classes\":[\"markdown\"],\"margin\":[5,5,5,5],\"name\":\"ParamMethod00116\",\"sizing_mode\":\"stretch_width\",\"text\":\"&lt;p&gt;&lt;img id=&quot;slideshow&quot; style=&quot;height:300px;width:100%&quot; src=&quot;https://picsum.photos/800/300?image=1&quot;/&gt;&lt;/p&gt;\"},\"id\":\"1011\",\"type\":\"panel.models.markup.HTML\"},{\"attributes\":{\"active\":1,\"labels\":[\"0\",\"1\",\"2\",\"3\",\"4\"],\"margin\":[5,10,5,10],\"sizing_mode\":\"stretch_width\"},\"id\":\"1009\",\"type\":\"RadioButtonGroup\"},{\"attributes\":{\"children\":[{\"id\":\"1011\"}],\"margin\":[0,0,0,0],\"name\":\"Row00120\",\"sizing_mode\":\"stretch_width\"},\"id\":\"1010\",\"type\":\"Row\"}],\"root_ids\":[\"1008\",\"1012\"]},\"title\":\"Bokeh Application\",\"version\":\"2.4.1\"}};\n",
       "    var render_items = [{\"docid\":\"1fa8a010-7afe-4b1b-bf8b-2c3d0ca3e531\",\"root_ids\":[\"1008\"],\"roots\":{\"1008\":\"a72aa656-9c76-4283-a24b-e982e20d6e3c\"}}];\n",
       "    root.Bokeh.embed.embed_items_notebook(docs_json, render_items);\n",
       "  }\n",
       "  if (root.Bokeh !== undefined && root.Bokeh.Panel !== undefined) {\n",
       "    embed_document(root);\n",
       "  } else {\n",
       "    var attempts = 0;\n",
       "    var timer = setInterval(function(root) {\n",
       "      if (root.Bokeh !== undefined && root.Bokeh.Panel !== undefined) {\n",
       "        clearInterval(timer);\n",
       "        embed_document(root);\n",
       "      } else if (document.readyState == \"complete\") {\n",
       "        attempts++;\n",
       "        if (attempts > 200) {\n",
       "          clearInterval(timer);\n",
       "          console.log(\"Bokeh: ERROR: Unable to run BokehJS code because BokehJS library is missing\");\n",
       "        }\n",
       "      }\n",
       "    }, 25, root)\n",
       "  }\n",
       "})(window);</script>"
      ],
      "text/plain": [
       "Row(name='Basic', sizing_mode='stretch_width')\n",
       "    [0] RadioButtonGroup(options=[0, 1, 2, 3, 4], sizing_mode='stretch_width', value=1)\n",
       "    [1] ParamMethod(method, sizing_mode='stretch_width')"
      ]
     },
     "execution_count": 5,
     "metadata": {
      "application/vnd.holoviews_exec.v0+json": {
       "id": "1008"
      }
     },
     "output_type": "execute_result"
    }
   ],
   "source": [
    "video_layout = interactive(video_model, inputs=pn.widgets.RadioButtonGroup(value=1, options=[0, 1, 2, 3, 4]), name=\"Basic\")\n",
    "video_layout"
   ]
  },
  {
   "cell_type": "markdown",
   "id": "e5199e04-586a-4425-9b0c-32c328fbe4d5",
   "metadata": {},
   "source": [
    "You can specify **specific parameters on `inputs`**."
   ]
  },
  {
   "cell_type": "code",
   "execution_count": 6,
   "id": "2baa448e-f1a0-491a-83cb-eb504745195d",
   "metadata": {},
   "outputs": [
    {
     "data": {},
     "metadata": {},
     "output_type": "display_data"
    },
    {
     "data": {
      "application/vnd.holoviews_exec.v0+json": "",
      "text/html": [
       "<div id='1013'>\n",
       "\n",
       "\n",
       "\n",
       "\n",
       "\n",
       "  <div class=\"bk-root\" id=\"855ec7eb-f3bc-452e-ad32-cbaa5586abab\" data-root-id=\"1013\"></div>\n",
       "</div>\n",
       "<script type=\"application/javascript\">(function(root) {\n",
       "  function embed_document(root) {\n",
       "    var docs_json = {\"0eff2004-6b50-4401-a1c3-3fa833bfb8f6\":{\"defs\":[{\"extends\":null,\"module\":null,\"name\":\"ReactiveHTML1\",\"overrides\":[],\"properties\":[]},{\"extends\":null,\"module\":null,\"name\":\"FlexBox1\",\"overrides\":[],\"properties\":[{\"default\":\"flex-start\",\"kind\":null,\"name\":\"align_content\"},{\"default\":\"flex-start\",\"kind\":null,\"name\":\"align_items\"},{\"default\":\"row\",\"kind\":null,\"name\":\"flex_direction\"},{\"default\":\"wrap\",\"kind\":null,\"name\":\"flex_wrap\"},{\"default\":\"flex-start\",\"kind\":null,\"name\":\"justify_content\"}]},{\"extends\":null,\"module\":null,\"name\":\"TemplateActions1\",\"overrides\":[],\"properties\":[{\"default\":0,\"kind\":null,\"name\":\"open_modal\"},{\"default\":0,\"kind\":null,\"name\":\"close_modal\"}]},{\"extends\":null,\"module\":null,\"name\":\"MaterialTemplateActions1\",\"overrides\":[],\"properties\":[{\"default\":0,\"kind\":null,\"name\":\"open_modal\"},{\"default\":0,\"kind\":null,\"name\":\"close_modal\"}]},{\"extends\":null,\"module\":null,\"name\":\"name1\",\"overrides\":[],\"properties\":[{\"default\":\"body\",\"kind\":null,\"name\":\"selection\"},{\"default\":\"selection\",\"kind\":null,\"name\":\"target\"},{\"default\":false,\"kind\":null,\"name\":\"take\"},{\"default\":\"png\",\"kind\":null,\"name\":\"format\"},{\"default\":1.0,\"kind\":null,\"name\":\"scale\"},{\"default\":1.0,\"kind\":null,\"name\":\"quality\"},{\"default\":\"white\",\"kind\":null,\"name\":\"bgcolor\"},{\"default\":[\"download\"],\"kind\":null,\"name\":\"actions\"},{\"default\":\"download.png\",\"kind\":null,\"name\":\"download_file_name\"},{\"default\":\"\",\"kind\":null,\"name\":\"uri\"},{\"default\":\"_blank\",\"kind\":null,\"name\":\"open_target\"},{\"default\":0,\"kind\":null,\"name\":\"takes\"}]}],\"roots\":{\"references\":[{\"attributes\":{\"children\":[{\"id\":\"1014\"},{\"id\":\"1018\"}],\"margin\":[0,0,0,0],\"name\":\"Row00146\",\"sizing_mode\":\"stretch_width\"},\"id\":\"1013\",\"type\":\"Row\"},{\"attributes\":{\"children\":[{\"id\":\"1019\"},{\"id\":\"1020\"}],\"margin\":[0,0,0,0],\"name\":\"Basic\",\"sizing_mode\":\"stretch_width\"},\"id\":\"1018\",\"type\":\"Column\"},{\"attributes\":{\"children\":[{\"id\":\"1015\"},{\"id\":\"1016\"}],\"margin\":[0,0,0,0],\"name\":\"Basic\",\"sizing_mode\":\"stretch_width\"},\"id\":\"1014\",\"type\":\"Column\"},{\"attributes\":{\"children\":[{\"id\":\"1021\"}],\"margin\":[0,0,0,0],\"name\":\"Row00142\",\"sizing_mode\":\"stretch_width\"},\"id\":\"1020\",\"type\":\"Row\"},{\"attributes\":{\"css_classes\":[\"markdown\"],\"margin\":[5,5,5,5],\"name\":\"ParamMethod00128\",\"sizing_mode\":\"stretch_width\",\"text\":\"&lt;p&gt;&lt;img id=&quot;slideshow&quot; style=&quot;height:300px;width:100%&quot; src=&quot;https://picsum.photos/800/300?image=0&quot;/&gt;&lt;/p&gt;\"},\"id\":\"1017\",\"type\":\"panel.models.markup.HTML\"},{\"attributes\":{\"client_comm_id\":\"7c7adc26216d424e8d80d33c82ecffef\",\"comm_id\":\"18ec8c49f8144430879a7697aa6009f0\",\"plot_id\":\"1013\"},\"id\":\"1022\",\"type\":\"panel.models.comm_manager.CommManager\"},{\"attributes\":{\"end\":5,\"margin\":[5,10,5,10],\"sizing_mode\":\"stretch_width\",\"start\":0,\"value\":0},\"id\":\"1015\",\"type\":\"Slider\"},{\"attributes\":{\"end\":5,\"margin\":[5,10,5,10],\"sizing_mode\":\"stretch_width\",\"start\":0,\"value\":0},\"id\":\"1019\",\"type\":\"Slider\"},{\"attributes\":{\"children\":[{\"id\":\"1017\"}],\"margin\":[0,0,0,0],\"name\":\"Row00132\",\"sizing_mode\":\"stretch_width\"},\"id\":\"1016\",\"type\":\"Row\"},{\"attributes\":{\"css_classes\":[\"markdown\"],\"margin\":[5,5,5,5],\"name\":\"ParamMethod00138\",\"sizing_mode\":\"stretch_width\",\"text\":\"&lt;p&gt;&lt;img id=&quot;slideshow&quot; style=&quot;height:300px;width:100%&quot; src=&quot;https://picsum.photos/800/300?image=0&quot;/&gt;&lt;/p&gt;\"},\"id\":\"1021\",\"type\":\"panel.models.markup.HTML\"}],\"root_ids\":[\"1013\",\"1022\"]},\"title\":\"Bokeh Application\",\"version\":\"2.4.1\"}};\n",
       "    var render_items = [{\"docid\":\"0eff2004-6b50-4401-a1c3-3fa833bfb8f6\",\"root_ids\":[\"1013\"],\"roots\":{\"1013\":\"855ec7eb-f3bc-452e-ad32-cbaa5586abab\"}}];\n",
       "    root.Bokeh.embed.embed_items_notebook(docs_json, render_items);\n",
       "  }\n",
       "  if (root.Bokeh !== undefined && root.Bokeh.Panel !== undefined) {\n",
       "    embed_document(root);\n",
       "  } else {\n",
       "    var attempts = 0;\n",
       "    var timer = setInterval(function(root) {\n",
       "      if (root.Bokeh !== undefined && root.Bokeh.Panel !== undefined) {\n",
       "        clearInterval(timer);\n",
       "        embed_document(root);\n",
       "      } else if (document.readyState == \"complete\") {\n",
       "        attempts++;\n",
       "        if (attempts > 200) {\n",
       "          clearInterval(timer);\n",
       "          console.log(\"Bokeh: ERROR: Unable to run BokehJS code because BokehJS library is missing\");\n",
       "        }\n",
       "      }\n",
       "    }, 25, root)\n",
       "  }\n",
       "})(window);</script>"
      ],
      "text/plain": [
       "Row(sizing_mode='stretch_width')\n",
       "    [0] Column(name='Basic', sizing_mode='stretch_width')\n",
       "        [0] IntSlider(end=5, sizing_mode='stretch_width')\n",
       "        [1] ParamMethod(method, sizing_mode='stretch_width')\n",
       "    [1] Column(name='Basic', sizing_mode='stretch_width')\n",
       "        [0] IntSlider(end=5, sizing_mode='stretch_width')\n",
       "        [1] ParamMethod(method, sizing_mode='stretch_width')"
      ]
     },
     "execution_count": 6,
     "metadata": {
      "application/vnd.holoviews_exec.v0+json": {
       "id": "1013"
      }
     },
     "output_type": "execute_result"
    }
   ],
   "source": [
    "videolayout_parameters = pn.Row(\n",
    "    interactive(video_model, inputs=pn.widgets.IntSlider(value=0, start=0, end=5, ).param.value, default_layout=pn.Column, name=\"Basic\"),\n",
    "    interactive(video_model, inputs=pn.widgets.IntSlider(value=0, start=0, end=5, ).param.value_throttled, default_layout=pn.Column, name=\"Basic\"),\n",
    ")\n",
    "videolayout_parameters"
   ]
  },
  {
   "cell_type": "markdown",
   "id": "3a9da086-e882-4bd7-80e6-6ab19f2e56fd",
   "metadata": {},
   "source": [
    "Try dragging the slider on both examples to see the difference between the `value` and the `value_throttled` parameter"
   ]
  },
  {
   "cell_type": "markdown",
   "id": "d60554c7-143d-47e6-b5b8-1d8459bd95d8",
   "metadata": {},
   "source": [
    "Let provide *specific inputs*"
   ]
  },
  {
   "cell_type": "code",
   "execution_count": 7,
   "id": "835d830f-7010-406b-a86f-ebe4ffb61fd0",
   "metadata": {},
   "outputs": [
    {
     "data": {},
     "metadata": {},
     "output_type": "display_data"
    },
    {
     "data": {
      "application/vnd.holoviews_exec.v0+json": "",
      "text/html": [
       "<div id='1023'>\n",
       "\n",
       "\n",
       "\n",
       "\n",
       "\n",
       "  <div class=\"bk-root\" id=\"4d96c972-93d6-4f90-82c3-beb82bedec1a\" data-root-id=\"1023\"></div>\n",
       "</div>\n",
       "<script type=\"application/javascript\">(function(root) {\n",
       "  function embed_document(root) {\n",
       "    var docs_json = {\"876c8095-32a1-4475-93a1-104f0698c3d3\":{\"defs\":[{\"extends\":null,\"module\":null,\"name\":\"ReactiveHTML1\",\"overrides\":[],\"properties\":[]},{\"extends\":null,\"module\":null,\"name\":\"FlexBox1\",\"overrides\":[],\"properties\":[{\"default\":\"flex-start\",\"kind\":null,\"name\":\"align_content\"},{\"default\":\"flex-start\",\"kind\":null,\"name\":\"align_items\"},{\"default\":\"row\",\"kind\":null,\"name\":\"flex_direction\"},{\"default\":\"wrap\",\"kind\":null,\"name\":\"flex_wrap\"},{\"default\":\"flex-start\",\"kind\":null,\"name\":\"justify_content\"}]},{\"extends\":null,\"module\":null,\"name\":\"TemplateActions1\",\"overrides\":[],\"properties\":[{\"default\":0,\"kind\":null,\"name\":\"open_modal\"},{\"default\":0,\"kind\":null,\"name\":\"close_modal\"}]},{\"extends\":null,\"module\":null,\"name\":\"MaterialTemplateActions1\",\"overrides\":[],\"properties\":[{\"default\":0,\"kind\":null,\"name\":\"open_modal\"},{\"default\":0,\"kind\":null,\"name\":\"close_modal\"}]},{\"extends\":null,\"module\":null,\"name\":\"name1\",\"overrides\":[],\"properties\":[{\"default\":\"body\",\"kind\":null,\"name\":\"selection\"},{\"default\":\"selection\",\"kind\":null,\"name\":\"target\"},{\"default\":false,\"kind\":null,\"name\":\"take\"},{\"default\":\"png\",\"kind\":null,\"name\":\"format\"},{\"default\":1.0,\"kind\":null,\"name\":\"scale\"},{\"default\":1.0,\"kind\":null,\"name\":\"quality\"},{\"default\":\"white\",\"kind\":null,\"name\":\"bgcolor\"},{\"default\":[\"download\"],\"kind\":null,\"name\":\"actions\"},{\"default\":\"download.png\",\"kind\":null,\"name\":\"download_file_name\"},{\"default\":\"\",\"kind\":null,\"name\":\"uri\"},{\"default\":\"_blank\",\"kind\":null,\"name\":\"open_target\"},{\"default\":0,\"kind\":null,\"name\":\"takes\"}]}],\"roots\":{\"references\":[{\"attributes\":{\"margin\":[5,5,5,5],\"name\":\"HTML00150\",\"sizing_mode\":\"stretch_width\",\"style\":{\"background\":\"silver\",\"padding\":\"25px\"},\"text\":\"&lt;img id=&quot;slideshow&quot; style=&quot;height:300px;width:100%&quot; src=&quot;https://picsum.photos/800/300?image=1&quot;/&gt;\"},\"id\":\"1025\",\"type\":\"panel.models.markup.HTML\"},{\"attributes\":{\"children\":[{\"id\":\"1024\"},{\"id\":\"1025\"}],\"margin\":[0,0,0,0],\"name\":\"Basic\",\"sizing_mode\":\"stretch_width\"},\"id\":\"1023\",\"type\":\"Row\"},{\"attributes\":{\"client_comm_id\":\"83025557e8ec47e2acc38b53b915eff3\",\"comm_id\":\"766a4fe11d15480dabec0a7f0b39ca2c\",\"plot_id\":\"1023\"},\"id\":\"1026\",\"type\":\"panel.models.comm_manager.CommManager\"},{\"attributes\":{\"active\":1,\"labels\":[\"0\",\"1\",\"2\",\"3\",\"4\"],\"margin\":[5,10,5,10],\"sizing_mode\":\"stretch_width\"},\"id\":\"1024\",\"type\":\"RadioButtonGroup\"}],\"root_ids\":[\"1023\",\"1026\"]},\"title\":\"Bokeh Application\",\"version\":\"2.4.1\"}};\n",
       "    var render_items = [{\"docid\":\"876c8095-32a1-4475-93a1-104f0698c3d3\",\"root_ids\":[\"1023\"],\"roots\":{\"1023\":\"4d96c972-93d6-4f90-82c3-beb82bedec1a\"}}];\n",
       "    root.Bokeh.embed.embed_items_notebook(docs_json, render_items);\n",
       "  }\n",
       "  if (root.Bokeh !== undefined && root.Bokeh.Panel !== undefined) {\n",
       "    embed_document(root);\n",
       "  } else {\n",
       "    var attempts = 0;\n",
       "    var timer = setInterval(function(root) {\n",
       "      if (root.Bokeh !== undefined && root.Bokeh.Panel !== undefined) {\n",
       "        clearInterval(timer);\n",
       "        embed_document(root);\n",
       "      } else if (document.readyState == \"complete\") {\n",
       "        attempts++;\n",
       "        if (attempts > 200) {\n",
       "          clearInterval(timer);\n",
       "          console.log(\"Bokeh: ERROR: Unable to run BokehJS code because BokehJS library is missing\");\n",
       "        }\n",
       "      }\n",
       "    }, 25, root)\n",
       "  }\n",
       "})(window);</script>"
      ],
      "text/plain": [
       "Row(name='Basic', sizing_mode='stretch_width')\n",
       "    [0] RadioButtonGroup(options=[0, 1, 2, 3, 4], sizing_mode='stretch_width', value=1)\n",
       "    [1] HTML(str, sizing_mode='stretch_width', style={'background': 'silver', ...})"
      ]
     },
     "execution_count": 7,
     "metadata": {
      "application/vnd.holoviews_exec.v0+json": {
       "id": "1023"
      }
     },
     "output_type": "execute_result"
    }
   ],
   "source": [
    "video_layout_custom = interactive(video_model, inputs=pn.widgets.RadioButtonGroup(value=1, options=[0, 1, 2, 3, 4]), outputs=pn.pane.HTML(style={\"background\": \"silver\", \"padding\": \"25px\"}), name=\"Basic\")\n",
    "video_layout_custom"
   ]
  },
  {
   "cell_type": "markdown",
   "id": "f712a9b8-4035-4599-81fb-599bcdb0d110",
   "metadata": {},
   "source": [
    "## Multiple inputs and outputs"
   ]
  },
  {
   "cell_type": "code",
   "execution_count": 8,
   "id": "d3e1a6bb-220a-4911-beb0-206f4828ee85",
   "metadata": {},
   "outputs": [],
   "source": [
    "def two_factor_model(value1, value2):\n",
    "    return video_model(value1), video_model(value2)"
   ]
  },
  {
   "cell_type": "markdown",
   "id": "6e74bd13-84d2-4326-971f-48823320f33f",
   "metadata": {},
   "source": [
    "If you model returns a tuple or is a generator it will be assumed that the model has multiple outputs"
   ]
  },
  {
   "cell_type": "code",
   "execution_count": 9,
   "id": "2641e09b-d4a7-4f8a-bb37-32833295a28d",
   "metadata": {},
   "outputs": [
    {
     "data": {},
     "metadata": {},
     "output_type": "display_data"
    },
    {
     "data": {
      "application/vnd.holoviews_exec.v0+json": "",
      "text/html": [
       "<div id='1027'>\n",
       "\n",
       "\n",
       "\n",
       "\n",
       "\n",
       "  <div class=\"bk-root\" id=\"4aa45421-683f-4eab-9fdc-4c090e951da6\" data-root-id=\"1027\"></div>\n",
       "</div>\n",
       "<script type=\"application/javascript\">(function(root) {\n",
       "  function embed_document(root) {\n",
       "    var docs_json = {\"2fbda237-f5b3-4db4-8577-256bfc5ac33f\":{\"defs\":[{\"extends\":null,\"module\":null,\"name\":\"ReactiveHTML1\",\"overrides\":[],\"properties\":[]},{\"extends\":null,\"module\":null,\"name\":\"FlexBox1\",\"overrides\":[],\"properties\":[{\"default\":\"flex-start\",\"kind\":null,\"name\":\"align_content\"},{\"default\":\"flex-start\",\"kind\":null,\"name\":\"align_items\"},{\"default\":\"row\",\"kind\":null,\"name\":\"flex_direction\"},{\"default\":\"wrap\",\"kind\":null,\"name\":\"flex_wrap\"},{\"default\":\"flex-start\",\"kind\":null,\"name\":\"justify_content\"}]},{\"extends\":null,\"module\":null,\"name\":\"TemplateActions1\",\"overrides\":[],\"properties\":[{\"default\":0,\"kind\":null,\"name\":\"open_modal\"},{\"default\":0,\"kind\":null,\"name\":\"close_modal\"}]},{\"extends\":null,\"module\":null,\"name\":\"MaterialTemplateActions1\",\"overrides\":[],\"properties\":[{\"default\":0,\"kind\":null,\"name\":\"open_modal\"},{\"default\":0,\"kind\":null,\"name\":\"close_modal\"}]},{\"extends\":null,\"module\":null,\"name\":\"name1\",\"overrides\":[],\"properties\":[{\"default\":\"body\",\"kind\":null,\"name\":\"selection\"},{\"default\":\"selection\",\"kind\":null,\"name\":\"target\"},{\"default\":false,\"kind\":null,\"name\":\"take\"},{\"default\":\"png\",\"kind\":null,\"name\":\"format\"},{\"default\":1.0,\"kind\":null,\"name\":\"scale\"},{\"default\":1.0,\"kind\":null,\"name\":\"quality\"},{\"default\":\"white\",\"kind\":null,\"name\":\"bgcolor\"},{\"default\":[\"download\"],\"kind\":null,\"name\":\"actions\"},{\"default\":\"download.png\",\"kind\":null,\"name\":\"download_file_name\"},{\"default\":\"\",\"kind\":null,\"name\":\"uri\"},{\"default\":\"_blank\",\"kind\":null,\"name\":\"open_target\"},{\"default\":0,\"kind\":null,\"name\":\"takes\"}]}],\"roots\":{\"references\":[{\"attributes\":{\"active\":0,\"labels\":[\"0\",\"1\",\"2\",\"3\",\"4\"],\"margin\":[5,10,5,10],\"sizing_mode\":\"stretch_width\"},\"id\":\"1030\",\"type\":\"RadioButtonGroup\"},{\"attributes\":{\"css_classes\":[\"markdown\"],\"margin\":[5,5,5,5],\"name\":\"ParamMethod00160\",\"sizing_mode\":\"stretch_width\",\"text\":\"&lt;p&gt;&lt;img id=&quot;slideshow&quot; style=&quot;height:300px;width:100%&quot; src=&quot;https://picsum.photos/800/300?image=0&quot;/&gt;&lt;/p&gt;\"},\"id\":\"1033\",\"type\":\"panel.models.markup.HTML\"},{\"attributes\":{\"children\":[{\"id\":\"1035\"}],\"margin\":[0,0,0,0],\"name\":\"Row00172\",\"sizing_mode\":\"stretch_width\"},\"id\":\"1034\",\"type\":\"Row\"},{\"attributes\":{\"css_classes\":[\"markdown\"],\"margin\":[5,5,5,5],\"name\":\"ParamMethod00168\",\"sizing_mode\":\"stretch_width\",\"text\":\"&lt;p&gt;&lt;img id=&quot;slideshow&quot; style=&quot;height:300px;width:100%&quot; src=&quot;https://picsum.photos/800/300?image=0&quot;/&gt;&lt;/p&gt;\"},\"id\":\"1035\",\"type\":\"panel.models.markup.HTML\"},{\"attributes\":{\"children\":[{\"id\":\"1028\"},{\"id\":\"1031\"}],\"margin\":[0,0,0,0],\"name\":\"Row00176\",\"sizing_mode\":\"stretch_width\"},\"id\":\"1027\",\"type\":\"Row\"},{\"attributes\":{\"children\":[{\"id\":\"1032\"},{\"id\":\"1034\"}],\"margin\":[0,0,0,0],\"name\":\"Column00175\",\"sizing_mode\":\"stretch_width\"},\"id\":\"1031\",\"type\":\"Column\"},{\"attributes\":{\"end\":5,\"margin\":[5,10,5,10],\"sizing_mode\":\"stretch_width\",\"start\":0,\"value\":0},\"id\":\"1029\",\"type\":\"Slider\"},{\"attributes\":{\"client_comm_id\":\"d8800be85cef408e96fc250d7e9ef533\",\"comm_id\":\"368b64126e4742508b3ea2398a8ade51\",\"plot_id\":\"1027\"},\"id\":\"1036\",\"type\":\"panel.models.comm_manager.CommManager\"},{\"attributes\":{\"children\":[{\"id\":\"1029\"},{\"id\":\"1030\"}],\"margin\":[0,0,0,0],\"name\":\"Column00158\",\"sizing_mode\":\"stretch_width\"},\"id\":\"1028\",\"type\":\"Column\"},{\"attributes\":{\"children\":[{\"id\":\"1033\"}],\"margin\":[0,0,0,0],\"name\":\"Row00164\",\"sizing_mode\":\"stretch_width\"},\"id\":\"1032\",\"type\":\"Row\"}],\"root_ids\":[\"1027\",\"1036\"]},\"title\":\"Bokeh Application\",\"version\":\"2.4.1\"}};\n",
       "    var render_items = [{\"docid\":\"2fbda237-f5b3-4db4-8577-256bfc5ac33f\",\"root_ids\":[\"1027\"],\"roots\":{\"1027\":\"4aa45421-683f-4eab-9fdc-4c090e951da6\"}}];\n",
       "    root.Bokeh.embed.embed_items_notebook(docs_json, render_items);\n",
       "  }\n",
       "  if (root.Bokeh !== undefined && root.Bokeh.Panel !== undefined) {\n",
       "    embed_document(root);\n",
       "  } else {\n",
       "    var attempts = 0;\n",
       "    var timer = setInterval(function(root) {\n",
       "      if (root.Bokeh !== undefined && root.Bokeh.Panel !== undefined) {\n",
       "        clearInterval(timer);\n",
       "        embed_document(root);\n",
       "      } else if (document.readyState == \"complete\") {\n",
       "        attempts++;\n",
       "        if (attempts > 200) {\n",
       "          clearInterval(timer);\n",
       "          console.log(\"Bokeh: ERROR: Unable to run BokehJS code because BokehJS library is missing\");\n",
       "        }\n",
       "      }\n",
       "    }, 25, root)\n",
       "  }\n",
       "})(window);</script>"
      ],
      "text/plain": [
       "Row(sizing_mode='stretch_width')\n",
       "    [0] Column(sizing_mode='stretch_width')\n",
       "        [0] IntSlider(end=5, sizing_mode='stretch_width')\n",
       "        [1] RadioButtonGroup(options=[0, 1, 2, 3, 4], sizing_mode='stretch_width', value=0)\n",
       "    [1] Column(sizing_mode='stretch_width')\n",
       "        [0] ParamMethod(method, sizing_mode='stretch_width')\n",
       "        [1] ParamMethod(method, sizing_mode='stretch_width')"
      ]
     },
     "execution_count": 9,
     "metadata": {
      "application/vnd.holoviews_exec.v0+json": {
       "id": "1027"
      }
     },
     "output_type": "execute_result"
    }
   ],
   "source": [
    "interactive(\n",
    "    two_factor_model,\n",
    "    inputs=[\n",
    "        pn.widgets.IntSlider(value=0, start=0, end=5), \n",
    "        pn.widgets.RadioButtonGroup(value=0, options=[0, 1, 2, 3, 4])\n",
    "    ]\n",
    ")"
   ]
  },
  {
   "cell_type": "markdown",
   "id": "69e762e1-0f80-4f5b-85e3-9d9d80ed2591",
   "metadata": {},
   "source": [
    "Currently the number of outputs will be determined the first time the model is run. So if your model runs a different number of outputs on each run you can specify a specific number of outputs."
   ]
  },
  {
   "cell_type": "code",
   "execution_count": 10,
   "id": "188cd252-f861-4838-8711-f2a9afcece1e",
   "metadata": {},
   "outputs": [
    {
     "data": {},
     "metadata": {},
     "output_type": "display_data"
    },
    {
     "data": {
      "application/vnd.holoviews_exec.v0+json": "",
      "text/html": [
       "<div id='1037'>\n",
       "\n",
       "\n",
       "\n",
       "\n",
       "\n",
       "  <div class=\"bk-root\" id=\"187f6e1c-8087-4883-a018-9a5ee7c1350f\" data-root-id=\"1037\"></div>\n",
       "</div>\n",
       "<script type=\"application/javascript\">(function(root) {\n",
       "  function embed_document(root) {\n",
       "    var docs_json = {\"3c547224-7652-4cad-89a5-14c18d914b5d\":{\"defs\":[{\"extends\":null,\"module\":null,\"name\":\"ReactiveHTML1\",\"overrides\":[],\"properties\":[]},{\"extends\":null,\"module\":null,\"name\":\"FlexBox1\",\"overrides\":[],\"properties\":[{\"default\":\"flex-start\",\"kind\":null,\"name\":\"align_content\"},{\"default\":\"flex-start\",\"kind\":null,\"name\":\"align_items\"},{\"default\":\"row\",\"kind\":null,\"name\":\"flex_direction\"},{\"default\":\"wrap\",\"kind\":null,\"name\":\"flex_wrap\"},{\"default\":\"flex-start\",\"kind\":null,\"name\":\"justify_content\"}]},{\"extends\":null,\"module\":null,\"name\":\"TemplateActions1\",\"overrides\":[],\"properties\":[{\"default\":0,\"kind\":null,\"name\":\"open_modal\"},{\"default\":0,\"kind\":null,\"name\":\"close_modal\"}]},{\"extends\":null,\"module\":null,\"name\":\"MaterialTemplateActions1\",\"overrides\":[],\"properties\":[{\"default\":0,\"kind\":null,\"name\":\"open_modal\"},{\"default\":0,\"kind\":null,\"name\":\"close_modal\"}]},{\"extends\":null,\"module\":null,\"name\":\"name1\",\"overrides\":[],\"properties\":[{\"default\":\"body\",\"kind\":null,\"name\":\"selection\"},{\"default\":\"selection\",\"kind\":null,\"name\":\"target\"},{\"default\":false,\"kind\":null,\"name\":\"take\"},{\"default\":\"png\",\"kind\":null,\"name\":\"format\"},{\"default\":1.0,\"kind\":null,\"name\":\"scale\"},{\"default\":1.0,\"kind\":null,\"name\":\"quality\"},{\"default\":\"white\",\"kind\":null,\"name\":\"bgcolor\"},{\"default\":[\"download\"],\"kind\":null,\"name\":\"actions\"},{\"default\":\"download.png\",\"kind\":null,\"name\":\"download_file_name\"},{\"default\":\"\",\"kind\":null,\"name\":\"uri\"},{\"default\":\"_blank\",\"kind\":null,\"name\":\"open_target\"},{\"default\":0,\"kind\":null,\"name\":\"takes\"}]}],\"roots\":{\"references\":[{\"attributes\":{\"children\":[{\"id\":\"1043\"}],\"margin\":[0,0,0,0],\"name\":\"Row00193\",\"sizing_mode\":\"stretch_width\"},\"id\":\"1042\",\"type\":\"Row\"},{\"attributes\":{\"css_classes\":[\"markdown\"],\"margin\":[5,5,5,5],\"name\":\"ParamMethod00181\",\"sizing_mode\":\"stretch_width\",\"text\":\"&lt;p&gt;&amp;nbsp;&lt;/p&gt;\"},\"id\":\"1041\",\"type\":\"panel.models.markup.HTML\"},{\"attributes\":{\"children\":[{\"id\":\"1049\"}],\"margin\":[0,0,0,0],\"name\":\"Row00217\",\"sizing_mode\":\"stretch_width\"},\"id\":\"1048\",\"type\":\"Row\"},{\"attributes\":{\"children\":[{\"id\":\"1040\"},{\"id\":\"1042\"},{\"id\":\"1044\"},{\"id\":\"1046\"},{\"id\":\"1048\"}],\"margin\":[0,0,0,0],\"name\":\"Column00220\",\"sizing_mode\":\"stretch_width\"},\"id\":\"1039\",\"type\":\"Column\"},{\"attributes\":{\"children\":[{\"id\":\"1045\"}],\"margin\":[0,0,0,0],\"name\":\"Row00201\",\"sizing_mode\":\"stretch_width\"},\"id\":\"1044\",\"type\":\"Row\"},{\"attributes\":{\"children\":[{\"id\":\"1047\"}],\"margin\":[0,0,0,0],\"name\":\"Row00209\",\"sizing_mode\":\"stretch_width\"},\"id\":\"1046\",\"type\":\"Row\"},{\"attributes\":{\"css_classes\":[\"markdown\"],\"margin\":[5,5,5,5],\"name\":\"ParamMethod00205\",\"sizing_mode\":\"stretch_width\",\"text\":\"&lt;p&gt;&amp;nbsp;&lt;/p&gt;\"},\"id\":\"1047\",\"type\":\"panel.models.markup.HTML\"},{\"attributes\":{\"client_comm_id\":\"646ea9960f07497d90f30b16d657d87c\",\"comm_id\":\"d91e99a0b9dc41ccad0c0725946f8fb8\",\"plot_id\":\"1037\"},\"id\":\"1050\",\"type\":\"panel.models.comm_manager.CommManager\"},{\"attributes\":{\"css_classes\":[\"markdown\"],\"margin\":[5,5,5,5],\"name\":\"ParamMethod00197\",\"sizing_mode\":\"stretch_width\",\"text\":\"&lt;p&gt;&amp;nbsp;&lt;/p&gt;\"},\"id\":\"1045\",\"type\":\"panel.models.markup.HTML\"},{\"attributes\":{\"children\":[{\"id\":\"1041\"}],\"margin\":[0,0,0,0],\"name\":\"Row00185\",\"sizing_mode\":\"stretch_width\"},\"id\":\"1040\",\"type\":\"Row\"},{\"attributes\":{\"css_classes\":[\"markdown\"],\"margin\":[5,5,5,5],\"name\":\"ParamMethod00189\",\"sizing_mode\":\"stretch_width\",\"text\":\"&lt;p&gt;&amp;nbsp;&lt;/p&gt;\"},\"id\":\"1043\",\"type\":\"panel.models.markup.HTML\"},{\"attributes\":{\"end\":5,\"margin\":[5,10,5,10],\"sizing_mode\":\"stretch_width\",\"start\":0,\"value\":0},\"id\":\"1038\",\"type\":\"Slider\"},{\"attributes\":{\"css_classes\":[\"markdown\"],\"margin\":[5,5,5,5],\"name\":\"ParamMethod00213\",\"sizing_mode\":\"stretch_width\",\"text\":\"&lt;p&gt;&amp;nbsp;&lt;/p&gt;\"},\"id\":\"1049\",\"type\":\"panel.models.markup.HTML\"},{\"attributes\":{\"children\":[{\"id\":\"1038\"},{\"id\":\"1039\"}],\"margin\":[0,0,0,0],\"name\":\"Row00221\",\"sizing_mode\":\"stretch_width\"},\"id\":\"1037\",\"type\":\"Row\"}],\"root_ids\":[\"1037\",\"1050\"]},\"title\":\"Bokeh Application\",\"version\":\"2.4.1\"}};\n",
       "    var render_items = [{\"docid\":\"3c547224-7652-4cad-89a5-14c18d914b5d\",\"root_ids\":[\"1037\"],\"roots\":{\"1037\":\"187f6e1c-8087-4883-a018-9a5ee7c1350f\"}}];\n",
       "    root.Bokeh.embed.embed_items_notebook(docs_json, render_items);\n",
       "  }\n",
       "  if (root.Bokeh !== undefined && root.Bokeh.Panel !== undefined) {\n",
       "    embed_document(root);\n",
       "  } else {\n",
       "    var attempts = 0;\n",
       "    var timer = setInterval(function(root) {\n",
       "      if (root.Bokeh !== undefined && root.Bokeh.Panel !== undefined) {\n",
       "        clearInterval(timer);\n",
       "        embed_document(root);\n",
       "      } else if (document.readyState == \"complete\") {\n",
       "        attempts++;\n",
       "        if (attempts > 200) {\n",
       "          clearInterval(timer);\n",
       "          console.log(\"Bokeh: ERROR: Unable to run BokehJS code because BokehJS library is missing\");\n",
       "        }\n",
       "      }\n",
       "    }, 25, root)\n",
       "  }\n",
       "})(window);</script>"
      ],
      "text/plain": [
       "Row(sizing_mode='stretch_width')\n",
       "    [0] IntSlider(end=5, sizing_mode='stretch_width')\n",
       "    [1] Column(sizing_mode='stretch_width')\n",
       "        [0] ParamMethod(method, sizing_mode='stretch_width')\n",
       "        [1] ParamMethod(method, sizing_mode='stretch_width')\n",
       "        [2] ParamMethod(method, sizing_mode='stretch_width')\n",
       "        [3] ParamMethod(method, sizing_mode='stretch_width')\n",
       "        [4] ParamMethod(method, sizing_mode='stretch_width')"
      ]
     },
     "execution_count": 10,
     "metadata": {
      "application/vnd.holoviews_exec.v0+json": {
       "id": "1037"
      }
     },
     "output_type": "execute_result"
    }
   ],
   "source": [
    "def variable_outputs_model(value):\n",
    "    return tuple(range(1, value + 1))\n",
    "\n",
    "interactive(variable_outputs_model, inputs=pn.widgets.IntSlider(value=0, start=0, end=5), num_outputs=5)"
   ]
  },
  {
   "cell_type": "markdown",
   "id": "8d92e80c-a0dd-4447-92ae-4f8b83f272c0",
   "metadata": {},
   "source": [
    "You can even provide some of the outputs"
   ]
  },
  {
   "cell_type": "code",
   "execution_count": 12,
   "id": "ee25f69d-a94d-4ee2-9ae3-253824b2507d",
   "metadata": {},
   "outputs": [
    {
     "data": {},
     "metadata": {},
     "output_type": "display_data"
    },
    {
     "data": {
      "application/vnd.holoviews_exec.v0+json": "",
      "text/html": [
       "<div id='1051'>\n",
       "\n",
       "\n",
       "\n",
       "\n",
       "\n",
       "  <div class=\"bk-root\" id=\"dbf7b034-0437-4aac-b171-d08923123aea\" data-root-id=\"1051\"></div>\n",
       "</div>\n",
       "<script type=\"application/javascript\">(function(root) {\n",
       "  function embed_document(root) {\n",
       "    var docs_json = {\"938cdc43-7e34-4fd7-91e3-bafd991a417e\":{\"defs\":[{\"extends\":null,\"module\":null,\"name\":\"ReactiveHTML1\",\"overrides\":[],\"properties\":[]},{\"extends\":null,\"module\":null,\"name\":\"FlexBox1\",\"overrides\":[],\"properties\":[{\"default\":\"flex-start\",\"kind\":null,\"name\":\"align_content\"},{\"default\":\"flex-start\",\"kind\":null,\"name\":\"align_items\"},{\"default\":\"row\",\"kind\":null,\"name\":\"flex_direction\"},{\"default\":\"wrap\",\"kind\":null,\"name\":\"flex_wrap\"},{\"default\":\"flex-start\",\"kind\":null,\"name\":\"justify_content\"}]},{\"extends\":null,\"module\":null,\"name\":\"TemplateActions1\",\"overrides\":[],\"properties\":[{\"default\":0,\"kind\":null,\"name\":\"open_modal\"},{\"default\":0,\"kind\":null,\"name\":\"close_modal\"}]},{\"extends\":null,\"module\":null,\"name\":\"MaterialTemplateActions1\",\"overrides\":[],\"properties\":[{\"default\":0,\"kind\":null,\"name\":\"open_modal\"},{\"default\":0,\"kind\":null,\"name\":\"close_modal\"}]},{\"extends\":null,\"module\":null,\"name\":\"name1\",\"overrides\":[],\"properties\":[{\"default\":\"body\",\"kind\":null,\"name\":\"selection\"},{\"default\":\"selection\",\"kind\":null,\"name\":\"target\"},{\"default\":false,\"kind\":null,\"name\":\"take\"},{\"default\":\"png\",\"kind\":null,\"name\":\"format\"},{\"default\":1.0,\"kind\":null,\"name\":\"scale\"},{\"default\":1.0,\"kind\":null,\"name\":\"quality\"},{\"default\":\"white\",\"kind\":null,\"name\":\"bgcolor\"},{\"default\":[\"download\"],\"kind\":null,\"name\":\"actions\"},{\"default\":\"download.png\",\"kind\":null,\"name\":\"download_file_name\"},{\"default\":\"\",\"kind\":null,\"name\":\"uri\"},{\"default\":\"_blank\",\"kind\":null,\"name\":\"open_target\"},{\"default\":0,\"kind\":null,\"name\":\"takes\"}]}],\"roots\":{\"references\":[{\"attributes\":{\"children\":[{\"id\":\"1054\"},{\"id\":\"1056\"},{\"id\":\"1058\"},{\"id\":\"1059\"},{\"id\":\"1061\"}],\"margin\":[0,0,0,0],\"name\":\"Column00260\",\"sizing_mode\":\"stretch_width\"},\"id\":\"1053\",\"type\":\"Column\"},{\"attributes\":{\"css_classes\":[\"markdown\"],\"margin\":[5,5,5,5],\"name\":\"ParamMethod00253\",\"sizing_mode\":\"stretch_width\",\"text\":\"&lt;p&gt;&amp;nbsp;&lt;/p&gt;\"},\"id\":\"1062\",\"type\":\"panel.models.markup.HTML\"},{\"attributes\":{\"children\":[{\"id\":\"1052\"},{\"id\":\"1053\"}],\"margin\":[0,0,0,0],\"name\":\"Row00261\",\"sizing_mode\":\"stretch_width\"},\"id\":\"1051\",\"type\":\"Row\"},{\"attributes\":{\"end\":5,\"margin\":[5,10,5,10],\"sizing_mode\":\"stretch_width\",\"start\":0,\"value\":0},\"id\":\"1052\",\"type\":\"Slider\"},{\"attributes\":{\"children\":[{\"id\":\"1062\"}],\"margin\":[0,0,0,0],\"name\":\"Row00257\",\"sizing_mode\":\"stretch_width\"},\"id\":\"1061\",\"type\":\"Row\"},{\"attributes\":{\"css_classes\":[\"markdown\"],\"margin\":[5,5,5,5],\"name\":\"ParamMethod00245\",\"sizing_mode\":\"stretch_width\",\"text\":\"&lt;p&gt;&amp;nbsp;&lt;/p&gt;\"},\"id\":\"1060\",\"type\":\"panel.models.markup.HTML\"},{\"attributes\":{\"client_comm_id\":\"71637baa30eb46f0a8dcaa5aa7fe647e\",\"comm_id\":\"cef425fa1f844534922ab7f9e8daf409\",\"plot_id\":\"1051\"},\"id\":\"1063\",\"type\":\"panel.models.comm_manager.CommManager\"},{\"attributes\":{\"children\":[{\"id\":\"1057\"}],\"margin\":[0,0,0,0],\"name\":\"Row00240\",\"sizing_mode\":\"stretch_width\"},\"id\":\"1056\",\"type\":\"Row\"},{\"attributes\":{\"children\":[{\"id\":\"1060\"}],\"margin\":[0,0,0,0],\"name\":\"Row00249\",\"sizing_mode\":\"stretch_width\"},\"id\":\"1059\",\"type\":\"Row\"},{\"attributes\":{\"css_classes\":[\"markdown\"],\"margin\":[5,5,5,5],\"name\":\"ParamMethod00228\",\"sizing_mode\":\"stretch_width\",\"text\":\"&lt;p&gt;&amp;nbsp;&lt;/p&gt;\"},\"id\":\"1055\",\"type\":\"panel.models.markup.HTML\"},{\"attributes\":{\"children\":[{\"id\":\"1055\"}],\"margin\":[0,0,0,0],\"name\":\"Row00232\",\"sizing_mode\":\"stretch_width\"},\"id\":\"1054\",\"type\":\"Row\"},{\"attributes\":{\"background\":\"lightgray\",\"margin\":[5,5,5,5],\"name\":\"Str00225\",\"sizing_mode\":\"stretch_width\"},\"id\":\"1058\",\"type\":\"panel.models.markup.HTML\"},{\"attributes\":{\"css_classes\":[\"markdown\"],\"margin\":[5,5,5,5],\"name\":\"ParamMethod00236\",\"sizing_mode\":\"stretch_width\",\"text\":\"&lt;p&gt;&amp;nbsp;&lt;/p&gt;\"},\"id\":\"1057\",\"type\":\"panel.models.markup.HTML\"}],\"root_ids\":[\"1051\",\"1063\"]},\"title\":\"Bokeh Application\",\"version\":\"2.4.1\"}};\n",
       "    var render_items = [{\"docid\":\"938cdc43-7e34-4fd7-91e3-bafd991a417e\",\"root_ids\":[\"1051\"],\"roots\":{\"1051\":\"dbf7b034-0437-4aac-b171-d08923123aea\"}}];\n",
       "    root.Bokeh.embed.embed_items_notebook(docs_json, render_items);\n",
       "  }\n",
       "  if (root.Bokeh !== undefined && root.Bokeh.Panel !== undefined) {\n",
       "    embed_document(root);\n",
       "  } else {\n",
       "    var attempts = 0;\n",
       "    var timer = setInterval(function(root) {\n",
       "      if (root.Bokeh !== undefined && root.Bokeh.Panel !== undefined) {\n",
       "        clearInterval(timer);\n",
       "        embed_document(root);\n",
       "      } else if (document.readyState == \"complete\") {\n",
       "        attempts++;\n",
       "        if (attempts > 200) {\n",
       "          clearInterval(timer);\n",
       "          console.log(\"Bokeh: ERROR: Unable to run BokehJS code because BokehJS library is missing\");\n",
       "        }\n",
       "      }\n",
       "    }, 25, root)\n",
       "  }\n",
       "})(window);</script>"
      ],
      "text/plain": [
       "Row(sizing_mode='stretch_width')\n",
       "    [0] IntSlider(end=5, sizing_mode='stretch_width')\n",
       "    [1] Column(sizing_mode='stretch_width')\n",
       "        [0] ParamMethod(method, sizing_mode='stretch_width')\n",
       "        [1] ParamMethod(method, sizing_mode='stretch_width')\n",
       "        [2] Str(None, background='lightgray', sizing_mode='stretch_width')\n",
       "        [3] ParamMethod(method, sizing_mode='stretch_width')\n",
       "        [4] ParamMethod(method, sizing_mode='stretch_width')"
      ]
     },
     "execution_count": 12,
     "metadata": {
      "application/vnd.holoviews_exec.v0+json": {
       "id": "1051"
      }
     },
     "output_type": "execute_result"
    }
   ],
   "source": [
    "interactive(variable_outputs_model, inputs=pn.widgets.IntSlider(value=0, start=0, end=5), outputs=(None, None, pn.pane.Str(background=\"lightgray\"),), num_outputs=5)"
   ]
  },
  {
   "cell_type": "markdown",
   "id": "ba87fa38-606f-4110-9f06-b0a671d2114c",
   "metadata": {},
   "source": [
    "## Generator Model"
   ]
  },
  {
   "cell_type": "markdown",
   "id": "25219d9c-ddb9-4887-8120-a6e9e8278ccf",
   "metadata": {},
   "source": [
    "You model can even be a *generator* that returns the outputs as they are ready"
   ]
  },
  {
   "cell_type": "code",
   "execution_count": 13,
   "id": "c8570cff-49b2-4591-93ba-496e8c9e914e",
   "metadata": {},
   "outputs": [
    {
     "data": {},
     "metadata": {},
     "output_type": "display_data"
    },
    {
     "data": {
      "application/vnd.holoviews_exec.v0+json": "",
      "text/html": [
       "<div id='1064'>\n",
       "\n",
       "\n",
       "\n",
       "\n",
       "\n",
       "  <div class=\"bk-root\" id=\"8c9bd7a9-036e-488a-a395-9184e7c0b6b5\" data-root-id=\"1064\"></div>\n",
       "</div>\n",
       "<script type=\"application/javascript\">(function(root) {\n",
       "  function embed_document(root) {\n",
       "    var docs_json = {\"69107349-3f14-4951-bdee-e8e8d79f6640\":{\"defs\":[{\"extends\":null,\"module\":null,\"name\":\"ReactiveHTML1\",\"overrides\":[],\"properties\":[]},{\"extends\":null,\"module\":null,\"name\":\"FlexBox1\",\"overrides\":[],\"properties\":[{\"default\":\"flex-start\",\"kind\":null,\"name\":\"align_content\"},{\"default\":\"flex-start\",\"kind\":null,\"name\":\"align_items\"},{\"default\":\"row\",\"kind\":null,\"name\":\"flex_direction\"},{\"default\":\"wrap\",\"kind\":null,\"name\":\"flex_wrap\"},{\"default\":\"flex-start\",\"kind\":null,\"name\":\"justify_content\"}]},{\"extends\":null,\"module\":null,\"name\":\"TemplateActions1\",\"overrides\":[],\"properties\":[{\"default\":0,\"kind\":null,\"name\":\"open_modal\"},{\"default\":0,\"kind\":null,\"name\":\"close_modal\"}]},{\"extends\":null,\"module\":null,\"name\":\"MaterialTemplateActions1\",\"overrides\":[],\"properties\":[{\"default\":0,\"kind\":null,\"name\":\"open_modal\"},{\"default\":0,\"kind\":null,\"name\":\"close_modal\"}]},{\"extends\":null,\"module\":null,\"name\":\"name1\",\"overrides\":[],\"properties\":[{\"default\":\"body\",\"kind\":null,\"name\":\"selection\"},{\"default\":\"selection\",\"kind\":null,\"name\":\"target\"},{\"default\":false,\"kind\":null,\"name\":\"take\"},{\"default\":\"png\",\"kind\":null,\"name\":\"format\"},{\"default\":1.0,\"kind\":null,\"name\":\"scale\"},{\"default\":1.0,\"kind\":null,\"name\":\"quality\"},{\"default\":\"white\",\"kind\":null,\"name\":\"bgcolor\"},{\"default\":[\"download\"],\"kind\":null,\"name\":\"actions\"},{\"default\":\"download.png\",\"kind\":null,\"name\":\"download_file_name\"},{\"default\":\"\",\"kind\":null,\"name\":\"uri\"},{\"default\":\"_blank\",\"kind\":null,\"name\":\"open_target\"},{\"default\":0,\"kind\":null,\"name\":\"takes\"}]}],\"roots\":{\"references\":[{\"attributes\":{\"children\":[{\"id\":\"1065\"},{\"id\":\"1066\"}],\"margin\":[0,0,0,0],\"name\":\"Row00306\",\"sizing_mode\":\"stretch_width\"},\"id\":\"1064\",\"type\":\"Row\"},{\"attributes\":{\"css_classes\":[\"markdown\"],\"margin\":[5,5,5,5],\"name\":\"ParamMethod00282\",\"sizing_mode\":\"stretch_width\",\"text\":\"&lt;p&gt;&amp;nbsp;&lt;/p&gt;\"},\"id\":\"1072\",\"type\":\"panel.models.markup.HTML\"},{\"attributes\":{\"children\":[{\"id\":\"1068\"}],\"margin\":[0,0,0,0],\"name\":\"Row00270\",\"sizing_mode\":\"stretch_width\"},\"id\":\"1067\",\"type\":\"Row\"},{\"attributes\":{\"end\":5,\"margin\":[5,10,5,10],\"sizing_mode\":\"stretch_width\",\"start\":1,\"value\":0},\"id\":\"1065\",\"type\":\"Slider\"},{\"attributes\":{\"client_comm_id\":\"3086227ede8a44598f112f455c7c9410\",\"comm_id\":\"3118a80668a5444f9a7ce189c5232e8a\",\"plot_id\":\"1064\"},\"id\":\"1077\",\"type\":\"panel.models.comm_manager.CommManager\"},{\"attributes\":{\"css_classes\":[\"markdown\"],\"margin\":[5,5,5,5],\"name\":\"ParamMethod00298\",\"sizing_mode\":\"stretch_width\",\"text\":\"&lt;p&gt;&amp;nbsp;&lt;/p&gt;\"},\"id\":\"1076\",\"type\":\"panel.models.markup.HTML\"},{\"attributes\":{\"children\":[{\"id\":\"1067\"},{\"id\":\"1069\"},{\"id\":\"1071\"},{\"id\":\"1073\"},{\"id\":\"1075\"}],\"margin\":[0,0,0,0],\"name\":\"Column00305\",\"sizing_mode\":\"stretch_width\"},\"id\":\"1066\",\"type\":\"Column\"},{\"attributes\":{\"children\":[{\"id\":\"1076\"}],\"margin\":[0,0,0,0],\"name\":\"Row00302\",\"sizing_mode\":\"stretch_width\"},\"id\":\"1075\",\"type\":\"Row\"},{\"attributes\":{\"css_classes\":[\"markdown\"],\"margin\":[5,5,5,5],\"name\":\"ParamMethod00266\",\"sizing_mode\":\"stretch_width\",\"text\":\"&lt;p&gt;&amp;nbsp;&lt;/p&gt;\"},\"id\":\"1068\",\"type\":\"panel.models.markup.HTML\"},{\"attributes\":{\"children\":[{\"id\":\"1070\"}],\"margin\":[0,0,0,0],\"name\":\"Row00278\",\"sizing_mode\":\"stretch_width\"},\"id\":\"1069\",\"type\":\"Row\"},{\"attributes\":{\"css_classes\":[\"markdown\"],\"margin\":[5,5,5,5],\"name\":\"ParamMethod00290\",\"sizing_mode\":\"stretch_width\",\"text\":\"&lt;p&gt;&amp;nbsp;&lt;/p&gt;\"},\"id\":\"1074\",\"type\":\"panel.models.markup.HTML\"},{\"attributes\":{\"css_classes\":[\"markdown\"],\"margin\":[5,5,5,5],\"name\":\"ParamMethod00274\",\"sizing_mode\":\"stretch_width\",\"text\":\"&lt;p&gt;&amp;nbsp;&lt;/p&gt;\"},\"id\":\"1070\",\"type\":\"panel.models.markup.HTML\"},{\"attributes\":{\"children\":[{\"id\":\"1074\"}],\"margin\":[0,0,0,0],\"name\":\"Row00294\",\"sizing_mode\":\"stretch_width\"},\"id\":\"1073\",\"type\":\"Row\"},{\"attributes\":{\"children\":[{\"id\":\"1072\"}],\"margin\":[0,0,0,0],\"name\":\"Row00286\",\"sizing_mode\":\"stretch_width\"},\"id\":\"1071\",\"type\":\"Row\"}],\"root_ids\":[\"1064\",\"1077\"]},\"title\":\"Bokeh Application\",\"version\":\"2.4.1\"}};\n",
       "    var render_items = [{\"docid\":\"69107349-3f14-4951-bdee-e8e8d79f6640\",\"root_ids\":[\"1064\"],\"roots\":{\"1064\":\"8c9bd7a9-036e-488a-a395-9184e7c0b6b5\"}}];\n",
       "    root.Bokeh.embed.embed_items_notebook(docs_json, render_items);\n",
       "  }\n",
       "  if (root.Bokeh !== undefined && root.Bokeh.Panel !== undefined) {\n",
       "    embed_document(root);\n",
       "  } else {\n",
       "    var attempts = 0;\n",
       "    var timer = setInterval(function(root) {\n",
       "      if (root.Bokeh !== undefined && root.Bokeh.Panel !== undefined) {\n",
       "        clearInterval(timer);\n",
       "        embed_document(root);\n",
       "      } else if (document.readyState == \"complete\") {\n",
       "        attempts++;\n",
       "        if (attempts > 200) {\n",
       "          clearInterval(timer);\n",
       "          console.log(\"Bokeh: ERROR: Unable to run BokehJS code because BokehJS library is missing\");\n",
       "        }\n",
       "      }\n",
       "    }, 25, root)\n",
       "  }\n",
       "})(window);</script>"
      ],
      "text/plain": [
       "Row(sizing_mode='stretch_width')\n",
       "    [0] IntSlider(end=5, sizing_mode='stretch_width', start=1)\n",
       "    [1] Column(sizing_mode='stretch_width')\n",
       "        [0] ParamMethod(method, sizing_mode='stretch_width')\n",
       "        [1] ParamMethod(method, sizing_mode='stretch_width')\n",
       "        [2] ParamMethod(method, sizing_mode='stretch_width')\n",
       "        [3] ParamMethod(method, sizing_mode='stretch_width')\n",
       "        [4] ParamMethod(method, sizing_mode='stretch_width')"
      ]
     },
     "execution_count": 13,
     "metadata": {
      "application/vnd.holoviews_exec.v0+json": {
       "id": "1064"
      }
     },
     "output_type": "execute_result"
    }
   ],
   "source": [
    "def generator_model(value):\n",
    "    for index in range(1, value + 1):\n",
    "        time.sleep(0.1 * index**2)\n",
    "        yield video_model(index)\n",
    "\n",
    "interactive(\n",
    "    generator_model,\n",
    "    inputs=pn.widgets.IntSlider(value=0, start=1, end=5,).param.value_throttled,\n",
    "    num_outputs=5,\n",
    "    loading_indicator=True,   \n",
    ")"
   ]
  },
  {
   "cell_type": "markdown",
   "id": "0f255a3d-6539-49dc-ad7a-47f01c8370e7",
   "metadata": {},
   "source": [
    "You can use this to provide outputs as they become available."
   ]
  },
  {
   "cell_type": "markdown",
   "id": "30df2655-7ff5-4b44-a590-c0ab04ba7aeb",
   "metadata": {},
   "source": [
    "## Generator model with Progress reporting\n",
    "\n",
    "COMING UP. If you provide a Progress widget and your model is a generator it instead be assumed that it reports intermediate results. Each intermediate result can be a single results, a list or tuple of results or even a generator of results."
   ]
  },
  {
   "cell_type": "markdown",
   "id": "8fe03fc7-414d-431a-9493-3d8b07b69cbd",
   "metadata": {},
   "source": [
    "## Todo\n",
    "\n",
    "- Support `throttled` argument\n",
    "- Use better layout with screenshot and\n",
    "- provide input_params, output_params\n",
    "- allow providing instantiated default_layout to `interactive`\n",
    "- `interactive` to extend interact"
   ]
  }
 ],
 "metadata": {
  "kernelspec": {
   "display_name": "Python 3 (ipykernel)",
   "language": "python",
   "name": "python3"
  },
  "language_info": {
   "codemirror_mode": {
    "name": "ipython",
    "version": 3
   },
   "file_extension": ".py",
   "mimetype": "text/x-python",
   "name": "python",
   "nbconvert_exporter": "python",
   "pygments_lexer": "ipython3",
   "version": "3.8.4"
  }
 },
 "nbformat": 4,
 "nbformat_minor": 5
}
