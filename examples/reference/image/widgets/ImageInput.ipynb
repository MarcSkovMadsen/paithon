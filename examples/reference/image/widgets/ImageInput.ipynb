{
 "cells": [
  {
   "cell_type": "markdown",
   "id": "ec789610-05b7-4c12-9dfb-1d1be5f5a4c8",
   "metadata": {},
   "source": [
    "## ImageInput\n",
    "\n",
    "![DocStringViewer](../../../../examples/assets/videos/ImageInput.gif)"
   ]
  },
  {
   "cell_type": "code",
   "execution_count": null,
   "id": "aacbb421-e93b-4086-bd5c-6393ecbd8b6f",
   "metadata": {},
   "outputs": [],
   "source": [
    "import panel as pn\n",
    "\n",
    "from paithon.image.widgets import ImageInput\n",
    "from paithon.image.examples import IMAGE_EXAMPLES\n",
    "from paithon.shared.pane import DocStringViewer\n",
    "from paithon.shared.param import SortedParam\n",
    "from paithon.shared.template import fastlisttemplate\n",
    "\n",
    "pn.extension(sizing_mode=\"stretch_width\")"
   ]
  },
  {
   "cell_type": "markdown",
   "id": "12c9ca56-b36a-4a63-a4cf-5728ddf1a04c",
   "metadata": {},
   "source": [
    "Lets create an instance and inspect its documentation"
   ]
  },
  {
   "cell_type": "code",
   "execution_count": null,
   "id": "32e8a21a-e7ea-4ad9-b50b-c64a4eb37b01",
   "metadata": {},
   "outputs": [],
   "source": [
    "image_input0 = ImageInput(height=300)\n",
    "image_input0.set_value_from_data_uri(IMAGE_EXAMPLES[0].data_uri)\n",
    "image_input0"
   ]
  },
  {
   "cell_type": "markdown",
   "id": "7b7f7d05-9e84-479d-ab6f-67c5f583227f",
   "metadata": {},
   "source": [
    "Try dropping an image file onto the `ImageInput`!"
   ]
  },
  {
   "cell_type": "markdown",
   "id": "b38421ed-32af-4dcd-b421-c75e6c98b15f",
   "metadata": {},
   "source": [
    "## Tool with Controls"
   ]
  },
  {
   "cell_type": "code",
   "execution_count": null,
   "id": "2ea84b62-d640-45f6-a71e-e0a7493c02e4",
   "metadata": {},
   "outputs": [],
   "source": [
    "image_input = ImageInput(width=200, height=200, min_height=530, sizing_mode=\"stretch_both\")\n",
    "image_input.set_value_from_data_uri(IMAGE_EXAMPLES[1].data_uri)"
   ]
  },
  {
   "cell_type": "code",
   "execution_count": null,
   "id": "23a0ebae-130b-4880-b617-1bf4f693b158",
   "metadata": {},
   "outputs": [],
   "source": [
    "def _get_url(value):\n",
    "        if value:\n",
    "            return \"_url: \" + value[0:50] + \"...\"\n",
    "        return \"No Image Loaded\"\n",
    "\n",
    "iurl = pn.bind(_get_url, value=image_input.param.uri)\n",
    "\n",
    "progress = pn.widgets.Progress(value=-1, name=\"Progess\", sizing_mode=\"stretch_width\")\n",
    "@pn.depends(image_input.param.progress, watch=True)\n",
    "def _update_progress(value):\n",
    "    progress.value = value\n",
    "\n",
    "info=pn.Column(progress, iurl)\n",
    "info"
   ]
  },
  {
   "cell_type": "code",
   "execution_count": null,
   "id": "05c67f0e-8750-4b62-b756-8a7dc0c00164",
   "metadata": {},
   "outputs": [],
   "source": [
    "controls = SortedParam(\n",
    "    image_input,\n",
    "    parameters=[\n",
    "        \"accept\",\n",
    "        \"filename\",\n",
    "        \"mime_type\",\n",
    "        \"fit\",\n",
    "        \"max_size_in_mega_bytes\",\n",
    "        \"progress\",\n",
    "        \"height\",\n",
    "        \"width\",\n",
    "        \"sizing_mode\",\n",
    "        \"visible\",\n",
    "        \"loading\",\n",
    "    ],\n",
    "    widgets={\n",
    "        \"accept\": {\"height\": 120},\n",
    "        \"height\": {\"start\": 0, \"end\": 2000},\n",
    "        \"max_size_in_mega_bytes\": {\"start\": 1, \"end\": 15},\n",
    "        \"width\": {\"start\": 0, \"end\": 3000},\n",
    "    }, sizing_mode=\"fixed\", width=300\n",
    ")\n",
    "pn.Column(pn.Row(controls, image_input), info, max_height=700)"
   ]
  },
  {
   "cell_type": "markdown",
   "id": "be931777-29b2-40cd-badb-80cac52cf433",
   "metadata": {},
   "source": [
    "## Documentation"
   ]
  },
  {
   "cell_type": "code",
   "execution_count": null,
   "id": "6215f115-28dd-4dbd-9122-81348f3603c6",
   "metadata": {
    "tags": []
   },
   "outputs": [],
   "source": [
    "doc_string = DocStringViewer(image_input, height=600, scroll=True)\n",
    "doc_string"
   ]
  },
  {
   "cell_type": "markdown",
   "id": "92310373-177c-44db-a4a6-1ac9ea133bde",
   "metadata": {},
   "source": [
    "## Share it as an app"
   ]
  },
  {
   "cell_type": "code",
   "execution_count": null,
   "id": "ab4260a7-6efa-49b9-bc52-319b8e465a99",
   "metadata": {},
   "outputs": [],
   "source": [
    "card = pn.layout.Card(\n",
    "    doc_string,\n",
    "    header=\"# ImageInput\",\n",
    "    collapsed=True,\n",
    ")"
   ]
  },
  {
   "cell_type": "code",
   "execution_count": null,
   "id": "1a77584e-7477-43f5-a7d2-5f6294c918d2",
   "metadata": {},
   "outputs": [],
   "source": [
    "fastlisttemplate(\n",
    "    title=\"ImageInput\",\n",
    "    sidebar=[controls],\n",
    "    main=[\n",
    "        card,\n",
    "        pn.Column(image_input, sizing_mode=\"stretch_both\", margin=0),\n",
    "        pn.Column(\"### Change\", progress, pn.panel(iurl, height=50)),\n",
    "    ],\n",
    ").servable();"
   ]
  },
  {
   "cell_type": "markdown",
   "id": "59a94053-a904-4a85-b8dd-4513762b85a5",
   "metadata": {},
   "source": [
    "You can *serve* the app via `panel serve examples/reference/image/widgets/ImageInput.ipynb`. \n",
    "\n",
    "The app will be served at http://localhost:5006/ImageInput."
   ]
  }
 ],
 "metadata": {
  "kernelspec": {
   "display_name": "Python 3 (ipykernel)",
   "language": "python",
   "name": "python3"
  },
  "language_info": {
   "codemirror_mode": {
    "name": "ipython",
    "version": 3
   },
   "file_extension": ".py",
   "mimetype": "text/x-python",
   "name": "python",
   "nbconvert_exporter": "python",
   "pygments_lexer": "ipython3",
   "version": "3.8.4"
  }
 },
 "nbformat": 4,
 "nbformat_minor": 5
}
